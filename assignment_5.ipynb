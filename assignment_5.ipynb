{
 "cells": [
  {
   "cell_type": "markdown",
   "id": "94f7f232",
   "metadata": {},
   "source": [
    "Q1. What is the meaning of multiple inheritance?"
   ]
  },
  {
   "cell_type": "code",
   "execution_count": 1,
   "id": "96fa32da",
   "metadata": {},
   "outputs": [],
   "source": [
    "class Parent_one:\n",
    "    pass\n",
    "class Parent_two:\n",
    "    pass\n",
    "class child(Parent_one,Parent_two):\n",
    "    pass"
   ]
  },
  {
   "cell_type": "markdown",
   "id": "78013dbd",
   "metadata": {},
   "source": [
    "ans:\n",
    "    \n",
    "    when a sub/child class inherits from multiple classes it is called multiple inheritance."
   ]
  },
  {
   "cell_type": "code",
   "execution_count": null,
   "id": "a0c1565a",
   "metadata": {},
   "outputs": [],
   "source": []
  },
  {
   "cell_type": "code",
   "execution_count": null,
   "id": "48231018",
   "metadata": {},
   "outputs": [],
   "source": []
  },
  {
   "cell_type": "markdown",
   "id": "ca4fab12",
   "metadata": {},
   "source": [
    "Q2. What is the concept of delegation?"
   ]
  },
  {
   "cell_type": "markdown",
   "id": "a15af705",
   "metadata": {},
   "source": [
    "ans:\n",
    "    \n",
    "    Delegation provides a proxy object for a class thay we want on top of the main class. \n",
    "    \n",
    "    its acts as a wrapper to the class so that we can access methods of the main class."
   ]
  },
  {
   "cell_type": "code",
   "execution_count": 3,
   "id": "436ad44a",
   "metadata": {},
   "outputs": [],
   "source": [
    "class Myclass:\n",
    "    def sayhi(self):\n",
    "        print('Hello from main class')\n",
    "    def whoamI(self):\n",
    "        print('main class')\n",
    "class Newclass:\n",
    "    def __init__(self,obj):\n",
    "        self.main = obj\n",
    "    def welcome(self):\n",
    "        self.main.sayhi()"
   ]
  },
  {
   "cell_type": "code",
   "execution_count": 4,
   "id": "aad124d0",
   "metadata": {},
   "outputs": [],
   "source": [
    "main1 = Myclass()        \n",
    "new = Newclass(main1)"
   ]
  },
  {
   "cell_type": "code",
   "execution_count": 6,
   "id": "50875445",
   "metadata": {},
   "outputs": [
    {
     "name": "stdout",
     "output_type": "stream",
     "text": [
      "Hello from main class\n",
      "Hello from main class\n",
      "main class\n"
     ]
    }
   ],
   "source": [
    "new.main.sayhi()\n",
    "new.welcome()\n",
    "new.main.whoamI()"
   ]
  },
  {
   "cell_type": "code",
   "execution_count": null,
   "id": "e794728e",
   "metadata": {},
   "outputs": [],
   "source": []
  },
  {
   "cell_type": "code",
   "execution_count": null,
   "id": "48c76e5d",
   "metadata": {},
   "outputs": [],
   "source": []
  },
  {
   "cell_type": "markdown",
   "id": "5dacaefb",
   "metadata": {},
   "source": [
    "Q3. What is the concept of composition?"
   ]
  },
  {
   "cell_type": "code",
   "execution_count": 9,
   "id": "3f8267c6",
   "metadata": {},
   "outputs": [
    {
     "data": {
      "text/plain": [
       "'Total Salary : 6000'"
      ]
     },
     "execution_count": 9,
     "metadata": {},
     "output_type": "execute_result"
    }
   ],
   "source": [
    "class salary:\n",
    "    def __init__(self,pay):\n",
    "        self.pay = pay\n",
    "    def get_total(self):\n",
    "        return self.pay*12\n",
    "    \n",
    "class employee:\n",
    "    def __init__(self,pay,bonus):\n",
    "        self.pay = pay\n",
    "        self.bonus = bonus\n",
    "        self.obj_salary = salary(self.pay)\n",
    "    def annual_salary(self):\n",
    "        return f'Total Salary : {str(self.obj_salary.get_total())}'\n",
    "\n",
    "emp = employee(500,200)\n",
    "emp.annual_salary()"
   ]
  },
  {
   "cell_type": "markdown",
   "id": "70027555",
   "metadata": {},
   "source": [
    "ans:\n",
    "    \n",
    "    In composition , one class refers to other classes by using objects of this classes.\n",
    "    \n",
    "    only required methods from a class get used."
   ]
  },
  {
   "cell_type": "code",
   "execution_count": null,
   "id": "f9c7b8b8",
   "metadata": {},
   "outputs": [],
   "source": []
  },
  {
   "cell_type": "code",
   "execution_count": null,
   "id": "370b82d3",
   "metadata": {},
   "outputs": [],
   "source": []
  },
  {
   "cell_type": "markdown",
   "id": "ad9fbd81",
   "metadata": {},
   "source": [
    "Q4. What are bound methods and how do we use them?"
   ]
  },
  {
   "cell_type": "code",
   "execution_count": 14,
   "id": "471b0120",
   "metadata": {},
   "outputs": [],
   "source": [
    "class A:\n",
    "    def met(self): # bound method\n",
    "        print(\"Method is bound\")\n",
    "        \n",
    "    @staticmethod\n",
    "    def met1(): #staticmethod\n",
    "        print(\"Method is Static\")\n"
   ]
  },
  {
   "cell_type": "code",
   "execution_count": 15,
   "id": "8a5cb897",
   "metadata": {},
   "outputs": [],
   "source": [
    "a =  A()"
   ]
  },
  {
   "cell_type": "code",
   "execution_count": 16,
   "id": "f5343e90",
   "metadata": {},
   "outputs": [
    {
     "name": "stdout",
     "output_type": "stream",
     "text": [
      "Method is bound\n"
     ]
    }
   ],
   "source": [
    "a.met()"
   ]
  },
  {
   "cell_type": "code",
   "execution_count": 17,
   "id": "cecaa13f",
   "metadata": {},
   "outputs": [
    {
     "name": "stdout",
     "output_type": "stream",
     "text": [
      "Method is Static\n"
     ]
    }
   ],
   "source": [
    "a.met1()"
   ]
  },
  {
   "cell_type": "markdown",
   "id": "860a3714",
   "metadata": {},
   "source": [
    "ans:\n",
    "    \n",
    "    when we have a function as an attribute of class,\n",
    "    and it is accessed by the objects, they are called bound methods."
   ]
  },
  {
   "cell_type": "code",
   "execution_count": null,
   "id": "37c38db6",
   "metadata": {},
   "outputs": [],
   "source": []
  },
  {
   "cell_type": "code",
   "execution_count": null,
   "id": "9431ebbe",
   "metadata": {},
   "outputs": [],
   "source": []
  },
  {
   "cell_type": "markdown",
   "id": "25ba54e9",
   "metadata": {},
   "source": [
    "Q5. What is the purpose of pseudoprivate attributes?"
   ]
  },
  {
   "cell_type": "markdown",
   "id": "f659429a",
   "metadata": {},
   "source": [
    "ans:\n",
    "    \n",
    "    when we are  creating subclasses Pseudoprivate attributes are useful ,\n",
    "    as they help prevent attribute name clashes between the base class and the subclass."
   ]
  },
  {
   "cell_type": "code",
   "execution_count": null,
   "id": "c465773e",
   "metadata": {},
   "outputs": [],
   "source": []
  }
 ],
 "metadata": {
  "kernelspec": {
   "display_name": "Python 3 (ipykernel)",
   "language": "python",
   "name": "python3"
  },
  "language_info": {
   "codemirror_mode": {
    "name": "ipython",
    "version": 3
   },
   "file_extension": ".py",
   "mimetype": "text/x-python",
   "name": "python",
   "nbconvert_exporter": "python",
   "pygments_lexer": "ipython3",
   "version": "3.9.12"
  }
 },
 "nbformat": 4,
 "nbformat_minor": 5
}
