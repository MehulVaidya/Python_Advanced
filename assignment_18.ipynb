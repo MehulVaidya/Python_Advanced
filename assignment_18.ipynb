{
 "cells": [
  {
   "cell_type": "markdown",
   "id": "85406f86",
   "metadata": {},
   "source": [
    "Q1. Describe the differences between text and binary files in a single paragraph."
   ]
  },
  {
   "cell_type": "markdown",
   "id": "ea27e967",
   "metadata": {},
   "source": [
    "ans:\n",
    "    \n",
    "    the difference between text and binary files is:\n",
    "        \n",
    "    Text files are special subset of binary files that are used to store human readable characters as a  plain text document.\n",
    "    Binary files are  files that store data in the form of sequence of bytes grouped into eight bits or sometimes sixteen bits."
   ]
  },
  {
   "cell_type": "code",
   "execution_count": null,
   "id": "a8f0e4e8",
   "metadata": {},
   "outputs": [],
   "source": []
  },
  {
   "cell_type": "code",
   "execution_count": null,
   "id": "8a039eb2",
   "metadata": {},
   "outputs": [],
   "source": []
  },
  {
   "cell_type": "markdown",
   "id": "f6dc8563",
   "metadata": {},
   "source": [
    "Q2. What are some scenarios where using text files will be the better option? When would you like to\n",
    "use binary files instead of text files?"
   ]
  },
  {
   "cell_type": "markdown",
   "id": "ecccd43e",
   "metadata": {},
   "source": [
    "ans:\n",
    "    \n",
    "    Text files are less prone to get corrupted as any undesired change may just show up once the file is opened and they\n",
    "    can easily be removed. We can use binary files instead of text files for image data."
   ]
  },
  {
   "cell_type": "code",
   "execution_count": null,
   "id": "62a6dfc8",
   "metadata": {},
   "outputs": [],
   "source": []
  },
  {
   "cell_type": "code",
   "execution_count": null,
   "id": "e3a2662d",
   "metadata": {},
   "outputs": [],
   "source": []
  },
  {
   "cell_type": "markdown",
   "id": "1281de5b",
   "metadata": {},
   "source": [
    "Q3. What are some of the issues with using binary operations to read and write a Python integer\n",
    "directly to disc?"
   ]
  },
  {
   "cell_type": "markdown",
   "id": "f8dbdfcc",
   "metadata": {},
   "source": [
    "ans:\n",
    "    \n",
    "    When we read or write a python integer using binary operations:\n",
    "\n",
    "- Binary operations deal with raw data\n",
    "- One needs to identify how many bytes one would read or write."
   ]
  },
  {
   "cell_type": "code",
   "execution_count": null,
   "id": "bc6905dd",
   "metadata": {},
   "outputs": [],
   "source": []
  },
  {
   "cell_type": "code",
   "execution_count": null,
   "id": "fdaf24ff",
   "metadata": {},
   "outputs": [],
   "source": []
  },
  {
   "cell_type": "markdown",
   "id": "b60183b8",
   "metadata": {},
   "source": [
    "Q4. Describe a benefit of using the with keyword instead of explicitly opening a file."
   ]
  },
  {
   "cell_type": "markdown",
   "id": "9d7c9ed3",
   "metadata": {},
   "source": [
    "ans:\n",
    "    \n",
    "    When a file is opened using the with keyword, if some exceptions occur after opening a file,\n",
    "    or at the end of the file it automatically does the closing of the file. \n",
    "    There by not leaving an file in open mode and there would no need to explicitly close a file.\n",
    "\n"
   ]
  },
  {
   "cell_type": "code",
   "execution_count": null,
   "id": "aaf02134",
   "metadata": {},
   "outputs": [],
   "source": []
  },
  {
   "cell_type": "code",
   "execution_count": null,
   "id": "c06a5fdc",
   "metadata": {},
   "outputs": [],
   "source": []
  },
  {
   "cell_type": "markdown",
   "id": "d9fb4569",
   "metadata": {},
   "source": [
    "Q5. Does Python have the trailing newline while reading a line of text? Does Python append a\n",
    "newline when you write a line of text?"
   ]
  },
  {
   "cell_type": "markdown",
   "id": "4418cca7",
   "metadata": {},
   "source": [
    "ans:\n",
    "    \n",
    "    Yes, Python have the trailing newline while reading a line of text. When we write a newline has to be provided in python excpicitly."
   ]
  },
  {
   "cell_type": "code",
   "execution_count": null,
   "id": "759fc39e",
   "metadata": {},
   "outputs": [],
   "source": []
  },
  {
   "cell_type": "code",
   "execution_count": null,
   "id": "2e9c68d7",
   "metadata": {},
   "outputs": [],
   "source": []
  },
  {
   "cell_type": "markdown",
   "id": "ad3a9c3b",
   "metadata": {},
   "source": [
    "Q6. What file operations enable for random-access operation?"
   ]
  },
  {
   "cell_type": "markdown",
   "id": "4ba9202f",
   "metadata": {},
   "source": [
    "ans:\n",
    "    \n",
    "    seek() and tell() are operations that enable random access operation."
   ]
  },
  {
   "cell_type": "code",
   "execution_count": null,
   "id": "d340018f",
   "metadata": {},
   "outputs": [],
   "source": []
  },
  {
   "cell_type": "code",
   "execution_count": null,
   "id": "a145114f",
   "metadata": {},
   "outputs": [],
   "source": []
  },
  {
   "cell_type": "markdown",
   "id": "34530bf4",
   "metadata": {},
   "source": [
    "Q7. When do you think you&#39;ll use the struct package the most?"
   ]
  },
  {
   "cell_type": "markdown",
   "id": "6413a6f2",
   "metadata": {},
   "source": [
    "ans:\n",
    "    \n",
    "    while converting a common python types into C language types."
   ]
  },
  {
   "cell_type": "code",
   "execution_count": null,
   "id": "ed14ef7f",
   "metadata": {},
   "outputs": [],
   "source": []
  },
  {
   "cell_type": "code",
   "execution_count": null,
   "id": "c2401833",
   "metadata": {},
   "outputs": [],
   "source": []
  },
  {
   "cell_type": "markdown",
   "id": "2b59a8f0",
   "metadata": {},
   "source": [
    "Q8. When is pickling the best option?"
   ]
  },
  {
   "cell_type": "markdown",
   "id": "3a1e4010",
   "metadata": {},
   "source": [
    "ans:\n",
    "    \n",
    "    for creating a new binary file using python pickling is the best option."
   ]
  },
  {
   "cell_type": "code",
   "execution_count": null,
   "id": "b434ef7f",
   "metadata": {},
   "outputs": [],
   "source": []
  },
  {
   "cell_type": "code",
   "execution_count": null,
   "id": "f57c5266",
   "metadata": {},
   "outputs": [],
   "source": []
  },
  {
   "cell_type": "markdown",
   "id": "75ccaaff",
   "metadata": {},
   "source": [
    "Q9. When will it be best to use the shelve package?"
   ]
  },
  {
   "cell_type": "markdown",
   "id": "4595f454",
   "metadata": {},
   "source": [
    "ans:\n",
    "    \n",
    "    shelve package is used to pickle data but treats the entire file as dictionary ."
   ]
  },
  {
   "cell_type": "code",
   "execution_count": null,
   "id": "b950a8b4",
   "metadata": {},
   "outputs": [],
   "source": []
  },
  {
   "cell_type": "code",
   "execution_count": null,
   "id": "8592fd4d",
   "metadata": {},
   "outputs": [],
   "source": []
  },
  {
   "cell_type": "markdown",
   "id": "d4626b6d",
   "metadata": {},
   "source": [
    "Q10. What is a special restriction when using the shelve package, as opposed to using other data\n",
    "dictionaries?"
   ]
  },
  {
   "cell_type": "markdown",
   "id": "75dbca76",
   "metadata": {},
   "source": [
    "ans:\n",
    "    \n",
    "    Only string data type can be used as key in this special dictionary object, whereas any picklable Python object can be used as value."
   ]
  },
  {
   "cell_type": "code",
   "execution_count": null,
   "id": "275fbbe6",
   "metadata": {},
   "outputs": [],
   "source": []
  }
 ],
 "metadata": {
  "kernelspec": {
   "display_name": "Python 3 (ipykernel)",
   "language": "python",
   "name": "python3"
  },
  "language_info": {
   "codemirror_mode": {
    "name": "ipython",
    "version": 3
   },
   "file_extension": ".py",
   "mimetype": "text/x-python",
   "name": "python",
   "nbconvert_exporter": "python",
   "pygments_lexer": "ipython3",
   "version": "3.9.12"
  }
 },
 "nbformat": 4,
 "nbformat_minor": 5
}
