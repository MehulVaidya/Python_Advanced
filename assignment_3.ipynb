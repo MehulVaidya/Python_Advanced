{
 "cells": [
  {
   "cell_type": "markdown",
   "id": "067fdc2e",
   "metadata": {},
   "source": [
    "1. What is the concept of an abstract superclass?"
   ]
  },
  {
   "cell_type": "markdown",
   "id": "a8241a3a",
   "metadata": {},
   "source": [
    "ans:\n",
    "    \n",
    "    An abstract class/superclass can be considered as a blueprint for other classes. It allows you to create a set of methods that must be created within any child classes built from the abstract class. \n",
    "    \n",
    "    A class which contains one or more abstract methods is called an abstract class."
   ]
  },
  {
   "cell_type": "code",
   "execution_count": null,
   "id": "840da6d8",
   "metadata": {},
   "outputs": [],
   "source": []
  },
  {
   "cell_type": "code",
   "execution_count": null,
   "id": "25f3687e",
   "metadata": {},
   "outputs": [],
   "source": []
  },
  {
   "cell_type": "markdown",
   "id": "ea38fbeb",
   "metadata": {},
   "source": [
    "2. What happens when a class statement&#39;s top level contains a basic assignment statement?"
   ]
  },
  {
   "cell_type": "markdown",
   "id": "d18177d1",
   "metadata": {},
   "source": [
    "ans:\n",
    "    \n",
    "    if a class statement's top level contains  basic assignment statement, \n",
    "    then it gets treated as a attrubute of that class.\n",
    "    \n",
    "    where as assignment statements inside methods are treated as instance attributes or local attributes."
   ]
  },
  {
   "cell_type": "code",
   "execution_count": 2,
   "id": "c3deb013",
   "metadata": {},
   "outputs": [],
   "source": [
    "class person:\n",
    "    a = 'xyz' # class attribute\n",
    "    def __init__(self,name,gender):\n",
    "        self.name = name # instance attributes\n",
    "        self.gender = gender"
   ]
  },
  {
   "cell_type": "code",
   "execution_count": null,
   "id": "c39ed93a",
   "metadata": {},
   "outputs": [],
   "source": []
  },
  {
   "cell_type": "code",
   "execution_count": null,
   "id": "933a1635",
   "metadata": {},
   "outputs": [],
   "source": []
  },
  {
   "cell_type": "markdown",
   "id": "d2ca7184",
   "metadata": {},
   "source": [
    "3. Why does a class need to manually call a superclass&#39;s __init__ method?"
   ]
  },
  {
   "cell_type": "markdown",
   "id": "775f76ec",
   "metadata": {},
   "source": [
    "ans:\n",
    "    \n",
    "    if a child class has __init__ method, then it will not inherit the __init__ method of the parent class. \n",
    "    in other words the __init__ method of the child class overrides the __init__ method of the parent class.\n",
    "    so we have to manually call a parent superclass's __init__ using super() method"
   ]
  },
  {
   "cell_type": "code",
   "execution_count": 4,
   "id": "67f473eb",
   "metadata": {},
   "outputs": [
    {
     "name": "stdout",
     "output_type": "stream",
     "text": [
      "{'name': 'xyz', 'age': 23, 'salary': 2100}\n"
     ]
    }
   ],
   "source": [
    "class person:\n",
    "    def __init__(self,name,age):\n",
    "        self.name = name\n",
    "        self.age = age       \n",
    "class employee(person):\n",
    "    def __init__(self,name,age,salary):\n",
    "        super().__init__(name,age)\n",
    "        self.salary = salary\n",
    "e = employee('xyz',23,2100)\n",
    "print(e.__dict__)"
   ]
  },
  {
   "cell_type": "code",
   "execution_count": null,
   "id": "4e493d1a",
   "metadata": {},
   "outputs": [],
   "source": []
  },
  {
   "cell_type": "code",
   "execution_count": null,
   "id": "36d9fd17",
   "metadata": {},
   "outputs": [],
   "source": []
  },
  {
   "cell_type": "markdown",
   "id": "2b75f497",
   "metadata": {},
   "source": [
    "4. How can you augment, instead of completely replacing, an inherited method?"
   ]
  },
  {
   "cell_type": "markdown",
   "id": "9b8889d8",
   "metadata": {},
   "source": [
    "ans:\n",
    "    \n",
    "    we can make use of the super() method to augment instead of replacing."
   ]
  },
  {
   "cell_type": "code",
   "execution_count": null,
   "id": "aead8f9f",
   "metadata": {},
   "outputs": [],
   "source": []
  },
  {
   "cell_type": "code",
   "execution_count": null,
   "id": "a72b00d5",
   "metadata": {},
   "outputs": [],
   "source": []
  },
  {
   "cell_type": "markdown",
   "id": "6e3482ee",
   "metadata": {},
   "source": [
    "5. How is the local scope of a class different from that of a function?"
   ]
  },
  {
   "cell_type": "markdown",
   "id": "a6fe32d0",
   "metadata": {},
   "source": [
    "ans:\n",
    "    \n",
    "    A Variable which is defined inside a function is local to that function. \n",
    "    \n",
    "    it is accesible from the point at which it is defined until the end of the function,\n",
    "    \n",
    "    and exists for as long as the function is existing.\n",
    "\n",
    "    Similary a variable inside of a class also has a local variable scope.\n",
    "\n",
    "    Variables which are defined in the class body (but outside all methods) are called as\n",
    "\n",
    "    class level variables or class attributes. they can be referenced by there bare names within the same scope, but they can also be accessed from outside this scope if we use the attribute access operator (.). on a class or an instance of the class."
   ]
  },
  {
   "cell_type": "code",
   "execution_count": 7,
   "id": "1081ac37",
   "metadata": {},
   "outputs": [
    {
     "name": "stdout",
     "output_type": "stream",
     "text": [
      "you're name is xyz\n",
      "Name not available outside hello abc scope\n",
      "123\n",
      "123\n"
     ]
    }
   ],
   "source": [
    "def abc(name):\n",
    "    name = name\n",
    "    print(f'you\\'re name is {name}')\n",
    "abc('xyz')\n",
    "try:\n",
    "    name\n",
    "except NameError:\n",
    "    print('Name not available outside hello abc scope')\n",
    "\n",
    "class person:\n",
    "    b = \"123\"\n",
    "    def __init__(self):\n",
    "        pass\n",
    "print(person.b) # Accessing species using class name\n",
    "Male = person()\n",
    "print(Male.b) # Accessing species using instance of class"
   ]
  },
  {
   "cell_type": "code",
   "execution_count": null,
   "id": "af4410a8",
   "metadata": {},
   "outputs": [],
   "source": []
  },
  {
   "cell_type": "code",
   "execution_count": null,
   "id": "bb1d3410",
   "metadata": {},
   "outputs": [],
   "source": []
  }
 ],
 "metadata": {
  "kernelspec": {
   "display_name": "Python 3 (ipykernel)",
   "language": "python",
   "name": "python3"
  },
  "language_info": {
   "codemirror_mode": {
    "name": "ipython",
    "version": 3
   },
   "file_extension": ".py",
   "mimetype": "text/x-python",
   "name": "python",
   "nbconvert_exporter": "python",
   "pygments_lexer": "ipython3",
   "version": "3.9.12"
  }
 },
 "nbformat": 4,
 "nbformat_minor": 5
}
