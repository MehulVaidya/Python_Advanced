{
 "cells": [
  {
   "cell_type": "markdown",
   "id": "a39fe2fe-1344-4f29-8c89-113852d025d3",
   "metadata": {},
   "source": [
    "Q1. What is the relationship between classes and modules?"
   ]
  },
  {
   "cell_type": "markdown",
   "id": "d8a7c11b-d19e-49a1-afe2-465d906df4f0",
   "metadata": {},
   "source": [
    "ans: A class is a blueprint of some entity which contains methods or functions and objects.\n",
    "\n",
    "     a module is a '.py' file inside which we write custom functions which can be imported using the file and used."
   ]
  },
  {
   "cell_type": "code",
   "execution_count": null,
   "id": "3a710bed-5e03-47da-950b-3fd5783e8ceb",
   "metadata": {},
   "outputs": [],
   "source": []
  },
  {
   "cell_type": "markdown",
   "id": "c36413f6-ee63-4fe4-955b-db20eb3d3988",
   "metadata": {},
   "source": [
    "Q2. How do you make instances and classes?"
   ]
  },
  {
   "cell_type": "markdown",
   "id": "1fc65234-10b7-402f-a446-6d4016786d6f",
   "metadata": {},
   "source": [
    "ans: classes are made using the keyword class .\n",
    "\n",
    "     instances are made by calling this classes and assigning the instance to the class."
   ]
  },
  {
   "cell_type": "code",
   "execution_count": null,
   "id": "b3a25442-7419-48e7-b4ca-8d212b583e74",
   "metadata": {},
   "outputs": [],
   "source": []
  },
  {
   "cell_type": "markdown",
   "id": "31fb265b-0018-48f4-8d38-f76b066a6ffb",
   "metadata": {},
   "source": [
    "Q3. Where and how should be class attributes created?"
   ]
  },
  {
   "cell_type": "markdown",
   "id": "4eae2eb3-6ae7-4631-89e1-c20614980fe5",
   "metadata": {},
   "source": [
    "ans:  attributes should be created outside of the __init__ method.\n",
    "\n",
    "    using the '.' operator it shoould be created. we can use object.attribute = value."
   ]
  },
  {
   "cell_type": "code",
   "execution_count": null,
   "id": "529c81fb-3ff8-4a6b-b41b-1e8e930a2f9a",
   "metadata": {},
   "outputs": [],
   "source": []
  },
  {
   "cell_type": "markdown",
   "id": "16a28e79-c1de-4bb2-9cb3-e630052e7b0b",
   "metadata": {},
   "source": [
    "Q4. Where and how are instance attributes created?"
   ]
  },
  {
   "cell_type": "markdown",
   "id": "a4317d39-3145-4108-b52d-76cc63402f06",
   "metadata": {},
   "source": [
    "ans: instance attributes should be created inside the constructor.\n",
    "  \n",
    "    using the self paramter."
   ]
  },
  {
   "cell_type": "code",
   "execution_count": null,
   "id": "717ad596-e7f9-4f41-9e98-3c06256e438b",
   "metadata": {},
   "outputs": [],
   "source": []
  },
  {
   "cell_type": "markdown",
   "id": "227f8887-6f59-4426-8ba5-c376b78dd621",
   "metadata": {},
   "source": [
    "Q5. What does the term &quot;self&quot; in a Python class mean?"
   ]
  },
  {
   "cell_type": "markdown",
   "id": "3491f0bd-b81e-4043-a067-1f6da0c748e9",
   "metadata": {},
   "source": [
    "ans: self/ pointer binds attributes with given arguements.\n",
    "\n",
    "    doing this we can access the attributes and methods defined within the class."
   ]
  },
  {
   "cell_type": "code",
   "execution_count": null,
   "id": "10385e6f-38f6-44d6-a021-d18093de276d",
   "metadata": {},
   "outputs": [],
   "source": []
  },
  {
   "cell_type": "markdown",
   "id": "944cebbb-34ba-4092-b8aa-60e3e71751fa",
   "metadata": {},
   "source": [
    "Q6. How does a Python class handle operator overloading?"
   ]
  },
  {
   "cell_type": "markdown",
   "id": "640c129c-bb9a-40ea-b218-1e7b5f9bf9ee",
   "metadata": {},
   "source": [
    "ans: when we use + operator, the  method __add__ is automatically invoked in which the operation for + operator is defined."
   ]
  },
  {
   "cell_type": "code",
   "execution_count": null,
   "id": "8bcbbe84-143a-4c44-9e16-2acc044d4184",
   "metadata": {},
   "outputs": [],
   "source": []
  },
  {
   "cell_type": "markdown",
   "id": "7e226e40-10f1-4fdc-acaa-7a17852533e1",
   "metadata": {},
   "source": [
    "Q7. When do you consider allowing operator overloading of your classes?"
   ]
  },
  {
   "cell_type": "markdown",
   "id": "159c6aa8-c6f3-4aad-bb14-4f94f61955ef",
   "metadata": {},
   "source": [
    "ans: only write overlaoding when it is a expected thing, and it does not have any side effects."
   ]
  },
  {
   "cell_type": "code",
   "execution_count": null,
   "id": "9b6be254-5e9f-4e30-9a0c-ae38c1ce28fd",
   "metadata": {},
   "outputs": [],
   "source": []
  },
  {
   "cell_type": "markdown",
   "id": "69a71c96-13ba-495d-b314-fa0212b8f964",
   "metadata": {},
   "source": [
    "Q8. What is the most popular form of operator overloading?"
   ]
  },
  {
   "cell_type": "markdown",
   "id": "1a69399d-48bc-42b9-a990-3b26a5aca076",
   "metadata": {},
   "source": [
    "ans: the '+' operator is the most popular form of operator overloading"
   ]
  },
  {
   "cell_type": "code",
   "execution_count": null,
   "id": "6d83a21f-b1ef-4892-a8ff-895a209f5844",
   "metadata": {},
   "outputs": [],
   "source": []
  },
  {
   "cell_type": "code",
   "execution_count": null,
   "id": "de1f6963-de82-4751-96b2-dfe7940cd8d6",
   "metadata": {},
   "outputs": [],
   "source": []
  },
  {
   "cell_type": "markdown",
   "id": "d26d94c7-3be0-480d-a431-640cabde2238",
   "metadata": {},
   "source": [
    "Q9. What are the two most important concepts to grasp in order to comprehend Python OOP code?"
   ]
  },
  {
   "cell_type": "markdown",
   "id": "ca2c187f-23ce-4b24-b1d1-840e8fb64819",
   "metadata": {},
   "source": [
    "ans: Inheritance and polymorphism are two most importnat concepts in OOPS.\n",
    "\n",
    "    inheritance is used for resuing functions, helps with reusability of our code.\n",
    "    \n",
    "    polymorphism is one thing that can take many forms such as the '+' operator."
   ]
  },
  {
   "cell_type": "code",
   "execution_count": null,
   "id": "48f81303-66b9-4ca2-a54d-dfab9c77034b",
   "metadata": {},
   "outputs": [],
   "source": []
  }
 ],
 "metadata": {
  "kernelspec": {
   "display_name": "Python 3 (ipykernel)",
   "language": "python",
   "name": "python3"
  },
  "language_info": {
   "codemirror_mode": {
    "name": "ipython",
    "version": 3
   },
   "file_extension": ".py",
   "mimetype": "text/x-python",
   "name": "python",
   "nbconvert_exporter": "python",
   "pygments_lexer": "ipython3",
   "version": "3.10.6"
  }
 },
 "nbformat": 4,
 "nbformat_minor": 5
}
