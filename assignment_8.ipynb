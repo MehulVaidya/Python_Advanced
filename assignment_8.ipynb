{
 "cells": [
  {
   "cell_type": "markdown",
   "id": "9dc05a94",
   "metadata": {},
   "source": [
    "Q1. What are the two latest user-defined exception constraints in Python 3.X?"
   ]
  },
  {
   "cell_type": "markdown",
   "id": "269b265f",
   "metadata": {},
   "source": [
    "ans:\n",
    "    \n",
    "    raise and assert are the two latest exception constraints."
   ]
  },
  {
   "cell_type": "code",
   "execution_count": null,
   "id": "52644bd6",
   "metadata": {},
   "outputs": [],
   "source": []
  },
  {
   "cell_type": "code",
   "execution_count": null,
   "id": "ef830d98",
   "metadata": {},
   "outputs": [],
   "source": []
  },
  {
   "cell_type": "markdown",
   "id": "3efdc5f9",
   "metadata": {},
   "source": [
    "Q2. How are class-based exceptions that have been raised matched to handlers?"
   ]
  },
  {
   "cell_type": "markdown",
   "id": "0e9e07f9",
   "metadata": {},
   "source": [
    "ans:\n",
    "    \n",
    "    we can create custom exception of our own by creating a class.\n",
    "    \n",
    "    we can use this custom class with raise statement."
   ]
  },
  {
   "cell_type": "code",
   "execution_count": 3,
   "id": "5550d3f7",
   "metadata": {},
   "outputs": [
    {
     "ename": "Customexception",
     "evalue": "this is a non negative number",
     "output_type": "error",
     "traceback": [
      "\u001b[1;31m---------------------------------------------------------------------------\u001b[0m",
      "\u001b[1;31mCustomexception\u001b[0m                           Traceback (most recent call last)",
      "Input \u001b[1;32mIn [3]\u001b[0m, in \u001b[0;36m<cell line: 5>\u001b[1;34m()\u001b[0m\n\u001b[0;32m      3\u001b[0m         \u001b[38;5;28mself\u001b[39m\u001b[38;5;241m.\u001b[39mmsg \u001b[38;5;241m=\u001b[39m msg\n\u001b[0;32m      4\u001b[0m num \u001b[38;5;241m=\u001b[39m \u001b[38;5;241m-\u001b[39m\u001b[38;5;241m1\u001b[39m\n\u001b[1;32m----> 5\u001b[0m \u001b[38;5;28;01mif\u001b[39;00m num \u001b[38;5;241m<\u001b[39m \u001b[38;5;241m0\u001b[39m : \u001b[38;5;28;01mraise\u001b[39;00m Customexception(\u001b[38;5;124m'\u001b[39m\u001b[38;5;124mthis is a non negative number\u001b[39m\u001b[38;5;124m'\u001b[39m)\n",
      "\u001b[1;31mCustomexception\u001b[0m: this is a non negative number"
     ]
    }
   ],
   "source": [
    "class Customexception(Exception):\n",
    "    def __init__(self,msg):\n",
    "        self.msg = msg\n",
    "num = -1\n",
    "if num < 0 : raise Customexception('this is a non negative number')"
   ]
  },
  {
   "cell_type": "code",
   "execution_count": null,
   "id": "7361f09d",
   "metadata": {},
   "outputs": [],
   "source": []
  },
  {
   "cell_type": "code",
   "execution_count": null,
   "id": "44f28525",
   "metadata": {},
   "outputs": [],
   "source": []
  },
  {
   "cell_type": "markdown",
   "id": "b7e1ef49",
   "metadata": {},
   "source": [
    "Q3. Describe two methods for attaching context information to exception artefacts."
   ]
  },
  {
   "cell_type": "markdown",
   "id": "8364110c",
   "metadata": {},
   "source": [
    "ans:\n",
    "    \n",
    "    process() method of LoggerAdapter is where the contextual information is added to the logging output. its passes the message and keyword arguments of the logging call, and it passes back modified versions of these to use in the call to the underlying logger.\n",
    "\n",
    "    second method that can be used is exception(), Logs a messgae with level ERROR on this logger. The arguments are interpreted as for debug(). Exception info is added to the logging message."
   ]
  },
  {
   "cell_type": "code",
   "execution_count": null,
   "id": "319ac037",
   "metadata": {},
   "outputs": [],
   "source": []
  },
  {
   "cell_type": "code",
   "execution_count": null,
   "id": "a6a28703",
   "metadata": {},
   "outputs": [],
   "source": []
  },
  {
   "cell_type": "markdown",
   "id": "b1f7c413",
   "metadata": {},
   "source": [
    "Q4. Describe two methods for specifying the text of an exception object&#39;s error message."
   ]
  },
  {
   "cell_type": "markdown",
   "id": "ed59219f",
   "metadata": {},
   "source": [
    "ans:\n",
    "\n",
    "    raise and assert are two methods for specifying the text of an exception object's error message."
   ]
  },
  {
   "cell_type": "code",
   "execution_count": null,
   "id": "919dbbae",
   "metadata": {},
   "outputs": [],
   "source": []
  },
  {
   "cell_type": "code",
   "execution_count": null,
   "id": "36a13691",
   "metadata": {},
   "outputs": [],
   "source": []
  },
  {
   "cell_type": "markdown",
   "id": "8133418d",
   "metadata": {},
   "source": [
    "Q5. Why do you no longer use string-based exceptions?"
   ]
  },
  {
   "cell_type": "markdown",
   "id": "b7fcd70d",
   "metadata": {},
   "source": [
    "ans:\n",
    "\n",
    "    string-based exceptions doesn't inherit from exceptions. \n",
    "    \n",
    "    so plain exceptions catch all exceptions and not only system.  "
   ]
  },
  {
   "cell_type": "code",
   "execution_count": null,
   "id": "96023cd5",
   "metadata": {},
   "outputs": [],
   "source": []
  }
 ],
 "metadata": {
  "kernelspec": {
   "display_name": "Python 3 (ipykernel)",
   "language": "python",
   "name": "python3"
  },
  "language_info": {
   "codemirror_mode": {
    "name": "ipython",
    "version": 3
   },
   "file_extension": ".py",
   "mimetype": "text/x-python",
   "name": "python",
   "nbconvert_exporter": "python",
   "pygments_lexer": "ipython3",
   "version": "3.9.12"
  }
 },
 "nbformat": 4,
 "nbformat_minor": 5
}
