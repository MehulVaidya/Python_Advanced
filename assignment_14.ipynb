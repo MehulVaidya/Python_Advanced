{
 "cells": [
  {
   "cell_type": "markdown",
   "id": "fbb05960",
   "metadata": {},
   "source": [
    "Q1. Is an assignment operator like += only for show? Is it possible that it would lead to faster results\n",
    "at the runtime?"
   ]
  },
  {
   "cell_type": "markdown",
   "id": "d1dd7343",
   "metadata": {},
   "source": [
    "ans:\n",
    "\n",
    "\n",
    "the assignment operator += is used to:\n",
    "    \n",
    "    add and assign: add right side operand with left side operand and then assign to left operand\n",
    "    a += b\n",
    "    \n",
    "    \n",
    "    \n",
    "    a +=1  means value of a is to incremented by 1. if it a = a + 1 evaluates to finding a , adding 1 to it, \n",
    "    then storing the value again in variable a. this makes python to look for memeory holder twice.\n",
    "    the memory address has to be identified once, += leads to faster operation."
   ]
  },
  {
   "cell_type": "code",
   "execution_count": null,
   "id": "b6c58e91",
   "metadata": {},
   "outputs": [],
   "source": []
  },
  {
   "cell_type": "code",
   "execution_count": null,
   "id": "c7bf9550",
   "metadata": {},
   "outputs": [],
   "source": []
  },
  {
   "cell_type": "markdown",
   "id": "a608d7c8",
   "metadata": {},
   "source": [
    "Q2. What is the smallest number of statements you&#39;d have to write in most programming languages to\n",
    "replace the Python expression a, b = a + b, a?"
   ]
  },
  {
   "cell_type": "markdown",
   "id": "520cc369",
   "metadata": {},
   "source": [
    "ans:\n",
    "    \n",
    "    at least 4 lines of code would be required to write in other languages,\n",
    "    two lines for assigning and two for reassigning(a = a+b , b = a)."
   ]
  },
  {
   "cell_type": "code",
   "execution_count": null,
   "id": "221be1eb",
   "metadata": {},
   "outputs": [],
   "source": []
  },
  {
   "cell_type": "code",
   "execution_count": null,
   "id": "b5f19e44",
   "metadata": {},
   "outputs": [],
   "source": []
  },
  {
   "cell_type": "markdown",
   "id": "1b586734",
   "metadata": {},
   "source": [
    "Q3. In Python, what is the most effective way to set a list of 100 integers to 0?"
   ]
  },
  {
   "cell_type": "code",
   "execution_count": 2,
   "id": "20f5deaa",
   "metadata": {},
   "outputs": [
    {
     "name": "stdout",
     "output_type": "stream",
     "text": [
      "[0, 0, 0, 0, 0, 0, 0, 0, 0, 0, 0, 0, 0, 0, 0, 0, 0, 0, 0, 0, 0, 0, 0, 0, 0, 0, 0, 0, 0, 0, 0, 0, 0, 0, 0, 0, 0, 0, 0, 0, 0, 0, 0, 0, 0, 0, 0, 0, 0, 0, 0, 0, 0, 0, 0, 0, 0, 0, 0, 0, 0, 0, 0, 0, 0, 0, 0, 0, 0, 0, 0, 0, 0, 0, 0, 0, 0, 0, 0, 0, 0, 0, 0, 0, 0, 0, 0, 0, 0, 0, 0, 0, 0, 0, 0, 0, 0, 0, 0, 0]\n"
     ]
    }
   ],
   "source": [
    "print([0  for i in range(1,101)])"
   ]
  },
  {
   "cell_type": "code",
   "execution_count": 4,
   "id": "70bec867",
   "metadata": {},
   "outputs": [],
   "source": [
    "z=[0  for i in range(1,101)]"
   ]
  },
  {
   "cell_type": "code",
   "execution_count": 5,
   "id": "b038820b",
   "metadata": {},
   "outputs": [
    {
     "data": {
      "text/plain": [
       "100"
      ]
     },
     "execution_count": 5,
     "metadata": {},
     "output_type": "execute_result"
    }
   ],
   "source": [
    "len(z)"
   ]
  },
  {
   "cell_type": "markdown",
   "id": "350ce89f",
   "metadata": {},
   "source": [
    "ans:\n",
    "    \n",
    "    list comprehension can be used."
   ]
  },
  {
   "cell_type": "code",
   "execution_count": null,
   "id": "ff9ca846",
   "metadata": {},
   "outputs": [],
   "source": []
  },
  {
   "cell_type": "code",
   "execution_count": null,
   "id": "8034b2af",
   "metadata": {},
   "outputs": [],
   "source": []
  },
  {
   "cell_type": "markdown",
   "id": "637059d1",
   "metadata": {},
   "source": [
    "Q4. What is the most effective way to initialise a list of 99 integers that repeats the sequence 1, 2, 3?\n",
    "S If necessary, show step-by-step instructions on how to accomplish this."
   ]
  },
  {
   "cell_type": "code",
   "execution_count": 6,
   "id": "d20e2b46",
   "metadata": {},
   "outputs": [],
   "source": [
    "l = [1,2,3]*33"
   ]
  },
  {
   "cell_type": "code",
   "execution_count": 8,
   "id": "9f748cc1",
   "metadata": {},
   "outputs": [
    {
     "name": "stdout",
     "output_type": "stream",
     "text": [
      "[1, 2, 3, 1, 2, 3, 1, 2, 3, 1, 2, 3, 1, 2, 3, 1, 2, 3, 1, 2, 3, 1, 2, 3, 1, 2, 3, 1, 2, 3, 1, 2, 3, 1, 2, 3, 1, 2, 3, 1, 2, 3, 1, 2, 3, 1, 2, 3, 1, 2, 3, 1, 2, 3, 1, 2, 3, 1, 2, 3, 1, 2, 3, 1, 2, 3, 1, 2, 3, 1, 2, 3, 1, 2, 3, 1, 2, 3, 1, 2, 3, 1, 2, 3, 1, 2, 3, 1, 2, 3, 1, 2, 3, 1, 2, 3, 1, 2, 3]\n"
     ]
    }
   ],
   "source": [
    "print(l)"
   ]
  },
  {
   "cell_type": "code",
   "execution_count": null,
   "id": "7b3446da",
   "metadata": {},
   "outputs": [],
   "source": []
  },
  {
   "cell_type": "code",
   "execution_count": null,
   "id": "c1f3fa12",
   "metadata": {},
   "outputs": [],
   "source": []
  },
  {
   "cell_type": "markdown",
   "id": "29163cf1",
   "metadata": {},
   "source": [
    "Q5. If you&#39;re using IDLE to run a Python application, explain how to print a multidimensional list as\n",
    "efficiently?"
   ]
  },
  {
   "cell_type": "code",
   "execution_count": 10,
   "id": "a4f1c19d",
   "metadata": {},
   "outputs": [
    {
     "name": "stdout",
     "output_type": "stream",
     "text": [
      "1 1 2 2 3 3 "
     ]
    }
   ],
   "source": [
    "lst = [[1,1],[2,2],[3,3]] \n",
    "for x in range(len(lst)):\n",
    "    for y in range(len(lst[x])):\n",
    "        print(lst[x][y],end=\" \")\n"
   ]
  },
  {
   "cell_type": "code",
   "execution_count": null,
   "id": "cbced539",
   "metadata": {},
   "outputs": [],
   "source": []
  },
  {
   "cell_type": "code",
   "execution_count": null,
   "id": "fbcba8bf",
   "metadata": {},
   "outputs": [],
   "source": []
  },
  {
   "cell_type": "markdown",
   "id": "8f9ce160",
   "metadata": {},
   "source": [
    "Q6. Is it possible to use list comprehension with a string? If so, how can you go about doing it?"
   ]
  },
  {
   "cell_type": "code",
   "execution_count": 11,
   "id": "bebea749",
   "metadata": {},
   "outputs": [
    {
     "data": {
      "text/plain": [
       "['N', 'e', 'u', 'r', 'o', 'L', 'a', 'b']"
      ]
     },
     "execution_count": 11,
     "metadata": {},
     "output_type": "execute_result"
    }
   ],
   "source": [
    "[i for i in 'NeuroLab']"
   ]
  },
  {
   "cell_type": "code",
   "execution_count": null,
   "id": "0e5c74fc",
   "metadata": {},
   "outputs": [],
   "source": []
  },
  {
   "cell_type": "code",
   "execution_count": null,
   "id": "44fdfb83",
   "metadata": {},
   "outputs": [],
   "source": []
  },
  {
   "cell_type": "markdown",
   "id": "69759c41",
   "metadata": {},
   "source": [
    "Q7. From the command line, how do you get support with a user-written Python programme? Is this\n",
    "possible from inside IDLE?"
   ]
  },
  {
   "cell_type": "markdown",
   "id": "e84e4759",
   "metadata": {},
   "source": [
    "ans:\n",
    "\n",
    "    support from Python Programme: start the command prompt, if the current working directory is the same as the location in which file is daved , we can specify the filename as a command-line argument to the python interpreter.\n",
    "\n",
    "    support from IDLE: from the shell window menu, select File → New File. That should open an additional editing window. Type in the code to be executed. From the menu in that window, select File → Save or File → Save As… and save the file to disk. Then select Run → Run Module. The output should appear back in the interpreter"
   ]
  },
  {
   "cell_type": "code",
   "execution_count": null,
   "id": "3c21d727",
   "metadata": {},
   "outputs": [],
   "source": []
  },
  {
   "cell_type": "code",
   "execution_count": null,
   "id": "032c57cd",
   "metadata": {},
   "outputs": [],
   "source": []
  },
  {
   "cell_type": "markdown",
   "id": "27da6c94",
   "metadata": {},
   "source": [
    "Q8. Functions are said to be “first-class objects” in Python but not in most other languages, such as\n",
    "C++ or Java. What can you do in Python with a function (callable object) that you can&#39;t do in C or\n",
    "C++?"
   ]
  },
  {
   "cell_type": "markdown",
   "id": "49d1a5ce",
   "metadata": {},
   "source": [
    "ans:\n",
    "    \n",
    "    we can store the function in a variable.\n",
    "    we can pass the function as a parameter to another function.\n",
    "    we can store them in data structures such as hash tables, lists.\n",
    "    function is an instance of the object type.\n",
    "    we can return the function from a function."
   ]
  },
  {
   "cell_type": "code",
   "execution_count": null,
   "id": "2d29db89",
   "metadata": {},
   "outputs": [],
   "source": []
  },
  {
   "cell_type": "code",
   "execution_count": null,
   "id": "8fe40c87",
   "metadata": {},
   "outputs": [],
   "source": []
  },
  {
   "cell_type": "markdown",
   "id": "1217e7db",
   "metadata": {},
   "source": [
    "Q9. How do you distinguish between a wrapper, a wrapped feature, and a decorator?"
   ]
  },
  {
   "cell_type": "markdown",
   "id": "fdbca686",
   "metadata": {},
   "source": [
    "ans:\n",
    "    \n",
    "     decrators are wrappers around the functions. which add more functionality to code."
   ]
  },
  {
   "cell_type": "code",
   "execution_count": null,
   "id": "7837f524",
   "metadata": {},
   "outputs": [],
   "source": []
  },
  {
   "cell_type": "code",
   "execution_count": null,
   "id": "9439a3aa",
   "metadata": {},
   "outputs": [],
   "source": []
  },
  {
   "cell_type": "markdown",
   "id": "dd07972c",
   "metadata": {},
   "source": [
    "Q10. If a function is a generator function, what does it return?"
   ]
  },
  {
   "cell_type": "markdown",
   "id": "d1ba10b3",
   "metadata": {},
   "source": [
    "ans:\n",
    "    \n",
    "    a generator function returns a lazy iterator."
   ]
  },
  {
   "cell_type": "code",
   "execution_count": null,
   "id": "931464cd",
   "metadata": {},
   "outputs": [],
   "source": []
  },
  {
   "cell_type": "markdown",
   "id": "7b43fa1b",
   "metadata": {},
   "source": [
    "Q11. What is the one improvement that must be made to a function in order for it to become a\n",
    "generator function in the Python language?"
   ]
  },
  {
   "cell_type": "markdown",
   "id": "5f6b8dfe",
   "metadata": {},
   "source": [
    "ans:\n",
    "    \n",
    "    instead of return keyword we use yield keyword to make a function a generator function."
   ]
  },
  {
   "cell_type": "code",
   "execution_count": null,
   "id": "8f61d6b4",
   "metadata": {},
   "outputs": [],
   "source": []
  },
  {
   "cell_type": "code",
   "execution_count": null,
   "id": "06e1c42e",
   "metadata": {},
   "outputs": [],
   "source": []
  },
  {
   "cell_type": "markdown",
   "id": "409a6a21",
   "metadata": {},
   "source": [
    "Q12. Identify at least one benefit of generators."
   ]
  },
  {
   "cell_type": "markdown",
   "id": "eb320d44",
   "metadata": {},
   "source": [
    "ans:\n",
    "    \n",
    "    it does not store previous values it only remembers current value and the logic of the code.\n",
    "    \n",
    "    this make it faster in execution."
   ]
  },
  {
   "cell_type": "code",
   "execution_count": null,
   "id": "c2f7b791",
   "metadata": {},
   "outputs": [],
   "source": []
  }
 ],
 "metadata": {
  "kernelspec": {
   "display_name": "Python 3 (ipykernel)",
   "language": "python",
   "name": "python3"
  },
  "language_info": {
   "codemirror_mode": {
    "name": "ipython",
    "version": 3
   },
   "file_extension": ".py",
   "mimetype": "text/x-python",
   "name": "python",
   "nbconvert_exporter": "python",
   "pygments_lexer": "ipython3",
   "version": "3.9.12"
  }
 },
 "nbformat": 4,
 "nbformat_minor": 5
}
