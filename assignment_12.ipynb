{
 "cells": [
  {
   "cell_type": "markdown",
   "id": "c9698d1d",
   "metadata": {},
   "source": [
    "Q1. Does assigning a value to a string&#39;s indexed character violate Python&#39;s string immutability?"
   ]
  },
  {
   "cell_type": "code",
   "execution_count": 1,
   "id": "2e9de757",
   "metadata": {},
   "outputs": [],
   "source": [
    "a = 'xyz'"
   ]
  },
  {
   "cell_type": "code",
   "execution_count": 2,
   "id": "b9cf37d6",
   "metadata": {},
   "outputs": [
    {
     "data": {
      "text/plain": [
       "'x'"
      ]
     },
     "execution_count": 2,
     "metadata": {},
     "output_type": "execute_result"
    }
   ],
   "source": [
    "a[0]"
   ]
  },
  {
   "cell_type": "code",
   "execution_count": 3,
   "id": "74f0bd41",
   "metadata": {},
   "outputs": [
    {
     "ename": "TypeError",
     "evalue": "'str' object does not support item assignment",
     "output_type": "error",
     "traceback": [
      "\u001b[1;31m---------------------------------------------------------------------------\u001b[0m",
      "\u001b[1;31mTypeError\u001b[0m                                 Traceback (most recent call last)",
      "Input \u001b[1;32mIn [3]\u001b[0m, in \u001b[0;36m<cell line: 1>\u001b[1;34m()\u001b[0m\n\u001b[1;32m----> 1\u001b[0m a[\u001b[38;5;241m0\u001b[39m]\u001b[38;5;241m=\u001b[39m\u001b[38;5;124m'\u001b[39m\u001b[38;5;124mc\u001b[39m\u001b[38;5;124m'\u001b[39m\n",
      "\u001b[1;31mTypeError\u001b[0m: 'str' object does not support item assignment"
     ]
    }
   ],
   "source": [
    "a[0]='c'"
   ]
  },
  {
   "cell_type": "markdown",
   "id": "bc31376a",
   "metadata": {},
   "source": [
    "ans:\n",
    "    \n",
    "    as strings are immutable we cannot assign a value to strings index."
   ]
  },
  {
   "cell_type": "code",
   "execution_count": null,
   "id": "581b0a57",
   "metadata": {},
   "outputs": [],
   "source": []
  },
  {
   "cell_type": "code",
   "execution_count": null,
   "id": "b7b6029e",
   "metadata": {},
   "outputs": [],
   "source": []
  },
  {
   "cell_type": "markdown",
   "id": "6d594ed0",
   "metadata": {},
   "source": [
    "Q2. Does using the += operator to concatenate strings violate Python&#39;s string immutability? Why or\n",
    "why not?"
   ]
  },
  {
   "cell_type": "markdown",
   "id": "3cda51c6",
   "metadata": {},
   "source": [
    "ans:\n",
    "    \n",
    "    It does not violate string immutability , using '+=' operator creates a new association with data.\n",
    "    "
   ]
  },
  {
   "cell_type": "code",
   "execution_count": 9,
   "id": "0edd47d5",
   "metadata": {},
   "outputs": [],
   "source": [
    "a  = 'xyz'"
   ]
  },
  {
   "cell_type": "code",
   "execution_count": 10,
   "id": "c86a9082",
   "metadata": {},
   "outputs": [
    {
     "data": {
      "text/plain": [
       "'xyz'"
      ]
     },
     "execution_count": 10,
     "metadata": {},
     "output_type": "execute_result"
    }
   ],
   "source": [
    "a"
   ]
  },
  {
   "cell_type": "code",
   "execution_count": 11,
   "id": "a2856787",
   "metadata": {},
   "outputs": [
    {
     "data": {
      "text/plain": [
       "2096040545968"
      ]
     },
     "execution_count": 11,
     "metadata": {},
     "output_type": "execute_result"
    }
   ],
   "source": [
    "id(a)"
   ]
  },
  {
   "cell_type": "code",
   "execution_count": 12,
   "id": "00126395",
   "metadata": {},
   "outputs": [],
   "source": [
    "a+='abc'"
   ]
  },
  {
   "cell_type": "code",
   "execution_count": 13,
   "id": "2757e608",
   "metadata": {},
   "outputs": [
    {
     "data": {
      "text/plain": [
       "'xyzabc'"
      ]
     },
     "execution_count": 13,
     "metadata": {},
     "output_type": "execute_result"
    }
   ],
   "source": [
    "a"
   ]
  },
  {
   "cell_type": "code",
   "execution_count": 14,
   "id": "69f43e95",
   "metadata": {},
   "outputs": [
    {
     "data": {
      "text/plain": [
       "2096068232304"
      ]
     },
     "execution_count": 14,
     "metadata": {},
     "output_type": "execute_result"
    }
   ],
   "source": [
    "id(a)"
   ]
  },
  {
   "cell_type": "code",
   "execution_count": null,
   "id": "58b9a6d0",
   "metadata": {},
   "outputs": [],
   "source": []
  },
  {
   "cell_type": "code",
   "execution_count": null,
   "id": "d261f396",
   "metadata": {},
   "outputs": [],
   "source": []
  },
  {
   "cell_type": "markdown",
   "id": "e3dad54f",
   "metadata": {},
   "source": [
    "Q3. In Python, how many different ways are there to index a character?"
   ]
  },
  {
   "cell_type": "markdown",
   "id": "48c1c799",
   "metadata": {},
   "source": [
    "ans:\n",
    "    \n",
    "    indexing can be performed two ways.\n",
    "    i.e positive (left to right)\n",
    "        negative (right to left)\n",
    "        \n",
    "    we need to use string name with square brackets and number inside the square brackets"
   ]
  },
  {
   "cell_type": "code",
   "execution_count": 16,
   "id": "b5d6ecec",
   "metadata": {},
   "outputs": [],
   "source": [
    "a = 'abcxyz'"
   ]
  },
  {
   "cell_type": "code",
   "execution_count": 17,
   "id": "d5dc2330",
   "metadata": {},
   "outputs": [
    {
     "data": {
      "text/plain": [
       "'abcxyz'"
      ]
     },
     "execution_count": 17,
     "metadata": {},
     "output_type": "execute_result"
    }
   ],
   "source": [
    "a"
   ]
  },
  {
   "cell_type": "code",
   "execution_count": 22,
   "id": "e2e2bd64",
   "metadata": {},
   "outputs": [
    {
     "data": {
      "text/plain": [
       "'b'"
      ]
     },
     "execution_count": 22,
     "metadata": {},
     "output_type": "execute_result"
    }
   ],
   "source": [
    "a[1]"
   ]
  },
  {
   "cell_type": "code",
   "execution_count": 24,
   "id": "1994fe78",
   "metadata": {},
   "outputs": [
    {
     "data": {
      "text/plain": [
       "'z'"
      ]
     },
     "execution_count": 24,
     "metadata": {},
     "output_type": "execute_result"
    }
   ],
   "source": [
    "a[-1]"
   ]
  },
  {
   "cell_type": "code",
   "execution_count": null,
   "id": "123ad6fd",
   "metadata": {},
   "outputs": [],
   "source": []
  },
  {
   "cell_type": "markdown",
   "id": "c3b4ec9d",
   "metadata": {},
   "source": [
    "Q4. What is the relationship between indexing and slicing?"
   ]
  },
  {
   "cell_type": "markdown",
   "id": "6b48b747",
   "metadata": {},
   "source": [
    "ans:\n",
    "    \n",
    "    indexing means taking out an element out of a string,\n",
    "    slicing is a subset taken out of a string.\n",
    "    \n",
    "    We can access elements of sequence datatypes by using slicing and indexing"
   ]
  },
  {
   "cell_type": "code",
   "execution_count": 25,
   "id": "c4292515",
   "metadata": {},
   "outputs": [],
   "source": [
    "a = 'xyzabc'"
   ]
  },
  {
   "cell_type": "code",
   "execution_count": 26,
   "id": "cb880c2e",
   "metadata": {},
   "outputs": [
    {
     "data": {
      "text/plain": [
       "'x'"
      ]
     },
     "execution_count": 26,
     "metadata": {},
     "output_type": "execute_result"
    }
   ],
   "source": [
    "a[0]#indexing"
   ]
  },
  {
   "cell_type": "code",
   "execution_count": 28,
   "id": "cddefbc3",
   "metadata": {},
   "outputs": [
    {
     "data": {
      "text/plain": [
       "'xyz'"
      ]
     },
     "execution_count": 28,
     "metadata": {},
     "output_type": "execute_result"
    }
   ],
   "source": [
    "a[0:3]#slicing"
   ]
  },
  {
   "cell_type": "code",
   "execution_count": null,
   "id": "6ee93571",
   "metadata": {},
   "outputs": [],
   "source": []
  },
  {
   "cell_type": "code",
   "execution_count": null,
   "id": "0221d1e2",
   "metadata": {},
   "outputs": [],
   "source": []
  },
  {
   "cell_type": "markdown",
   "id": "41077666",
   "metadata": {},
   "source": [
    "Q5. What is an indexed character&#39;s exact data type? What is the data form of a slicing-generated\n",
    "substring?"
   ]
  },
  {
   "cell_type": "code",
   "execution_count": 29,
   "id": "785c49ba",
   "metadata": {},
   "outputs": [
    {
     "data": {
      "text/plain": [
       "'xyzabc'"
      ]
     },
     "execution_count": 29,
     "metadata": {},
     "output_type": "execute_result"
    }
   ],
   "source": [
    "a"
   ]
  },
  {
   "cell_type": "code",
   "execution_count": 31,
   "id": "a5335dbf",
   "metadata": {},
   "outputs": [
    {
     "data": {
      "text/plain": [
       "str"
      ]
     },
     "execution_count": 31,
     "metadata": {},
     "output_type": "execute_result"
    }
   ],
   "source": [
    "type(a[0])"
   ]
  },
  {
   "cell_type": "code",
   "execution_count": 32,
   "id": "61565936",
   "metadata": {},
   "outputs": [
    {
     "data": {
      "text/plain": [
       "str"
      ]
     },
     "execution_count": 32,
     "metadata": {},
     "output_type": "execute_result"
    }
   ],
   "source": [
    "type(a[0:3])"
   ]
  },
  {
   "cell_type": "markdown",
   "id": "1f23e789",
   "metadata": {},
   "source": [
    "ans:\n",
    "    \n",
    "    data type for indexed character and slicing generated substing is string. "
   ]
  },
  {
   "cell_type": "code",
   "execution_count": null,
   "id": "f17946e0",
   "metadata": {},
   "outputs": [],
   "source": []
  },
  {
   "cell_type": "code",
   "execution_count": null,
   "id": "b5efadbd",
   "metadata": {},
   "outputs": [],
   "source": []
  },
  {
   "cell_type": "markdown",
   "id": "945cfb8b",
   "metadata": {},
   "source": [
    "Q6. What is the relationship between string and character &quot;types&quot; in Python?"
   ]
  },
  {
   "cell_type": "markdown",
   "id": "e43446f4",
   "metadata": {},
   "source": [
    "ans:\n",
    "    \n",
    "    Object that contains sequence of character datatypes are called String."
   ]
  },
  {
   "cell_type": "code",
   "execution_count": null,
   "id": "781a8f5f",
   "metadata": {},
   "outputs": [],
   "source": []
  },
  {
   "cell_type": "code",
   "execution_count": null,
   "id": "cb92ec25",
   "metadata": {},
   "outputs": [],
   "source": []
  },
  {
   "cell_type": "markdown",
   "id": "f834fbd2",
   "metadata": {},
   "source": [
    "Q7. Identify at least two operators and one method that allow you to combine one or more smaller\n",
    "strings to create a larger string."
   ]
  },
  {
   "cell_type": "code",
   "execution_count": 38,
   "id": "624adc99",
   "metadata": {},
   "outputs": [
    {
     "data": {
      "text/plain": [
       "'abclmn'"
      ]
     },
     "execution_count": 38,
     "metadata": {},
     "output_type": "execute_result"
    }
   ],
   "source": [
    "a = 'abc'\n",
    "a += 'lmn'\n",
    "\n",
    "a"
   ]
  },
  {
   "cell_type": "code",
   "execution_count": 39,
   "id": "e009b54c",
   "metadata": {},
   "outputs": [
    {
     "data": {
      "text/plain": [
       "'abclmnxyz'"
      ]
     },
     "execution_count": 39,
     "metadata": {},
     "output_type": "execute_result"
    }
   ],
   "source": [
    "a + 'xyz'"
   ]
  },
  {
   "cell_type": "code",
   "execution_count": 40,
   "id": "a9638653",
   "metadata": {},
   "outputs": [
    {
     "data": {
      "text/plain": [
       "'hello'"
      ]
     },
     "execution_count": 40,
     "metadata": {},
     "output_type": "execute_result"
    }
   ],
   "source": [
    "''.join(['he', 'llo'])"
   ]
  },
  {
   "cell_type": "markdown",
   "id": "c871a18a",
   "metadata": {},
   "source": [
    "ans:\n",
    "    \n",
    "    the +, += operator can be used to conactenate strings,\n",
    "    the join method  allows to combine strings."
   ]
  },
  {
   "cell_type": "code",
   "execution_count": null,
   "id": "c1a56bd0",
   "metadata": {},
   "outputs": [],
   "source": []
  },
  {
   "cell_type": "code",
   "execution_count": null,
   "id": "6343a0b6",
   "metadata": {},
   "outputs": [],
   "source": []
  },
  {
   "cell_type": "markdown",
   "id": "2e9c47e0",
   "metadata": {},
   "source": [
    "Q8. What is the benefit of first checking the target string with in or not in before using the index\n",
    "method to find a substring?"
   ]
  },
  {
   "cell_type": "code",
   "execution_count": null,
   "id": "6e0b7780",
   "metadata": {},
   "outputs": [],
   "source": [
    "ans:\n",
    "    \n",
    "    the beinifit is we get to know whether the substring is availaible or not in the target string.\n",
    "    \n",
    "    directly using index will raise error."
   ]
  },
  {
   "cell_type": "code",
   "execution_count": 41,
   "id": "66e89e6b",
   "metadata": {},
   "outputs": [],
   "source": [
    "a = 'abcxyz'"
   ]
  },
  {
   "cell_type": "code",
   "execution_count": 42,
   "id": "2615fba3",
   "metadata": {},
   "outputs": [
    {
     "data": {
      "text/plain": [
       "'abcxyz'"
      ]
     },
     "execution_count": 42,
     "metadata": {},
     "output_type": "execute_result"
    }
   ],
   "source": [
    "a"
   ]
  },
  {
   "cell_type": "code",
   "execution_count": 49,
   "id": "7ad75ed3",
   "metadata": {},
   "outputs": [
    {
     "ename": "ValueError",
     "evalue": "substring not found",
     "output_type": "error",
     "traceback": [
      "\u001b[1;31m---------------------------------------------------------------------------\u001b[0m",
      "\u001b[1;31mValueError\u001b[0m                                Traceback (most recent call last)",
      "Input \u001b[1;32mIn [49]\u001b[0m, in \u001b[0;36m<cell line: 1>\u001b[1;34m()\u001b[0m\n\u001b[1;32m----> 1\u001b[0m \u001b[43ma\u001b[49m\u001b[38;5;241;43m.\u001b[39;49m\u001b[43mindex\u001b[49m\u001b[43m(\u001b[49m\u001b[38;5;124;43m'\u001b[39;49m\u001b[38;5;124;43mm\u001b[39;49m\u001b[38;5;124;43m'\u001b[39;49m\u001b[43m)\u001b[49m\n",
      "\u001b[1;31mValueError\u001b[0m: substring not found"
     ]
    }
   ],
   "source": [
    "a.index('m')"
   ]
  },
  {
   "cell_type": "code",
   "execution_count": 47,
   "id": "a13141d0",
   "metadata": {},
   "outputs": [
    {
     "data": {
      "text/plain": [
       "False"
      ]
     },
     "execution_count": 47,
     "metadata": {},
     "output_type": "execute_result"
    }
   ],
   "source": [
    "'m'  in a"
   ]
  },
  {
   "cell_type": "code",
   "execution_count": null,
   "id": "80188808",
   "metadata": {},
   "outputs": [],
   "source": []
  },
  {
   "cell_type": "code",
   "execution_count": null,
   "id": "0b395efc",
   "metadata": {},
   "outputs": [],
   "source": []
  },
  {
   "cell_type": "markdown",
   "id": "c23d5e06",
   "metadata": {},
   "source": [
    "Q9. Which operators and built-in string methods produce simple Boolean (true/false) results?"
   ]
  },
  {
   "cell_type": "markdown",
   "id": "97cf887f",
   "metadata": {},
   "source": [
    "ans:\n",
    "    \n",
    "    in\n",
    "    not\n",
    "    <string>.isalpha()\n",
    "    <string>.isalnum()\n",
    "    <string>.isdecimal()\n",
    "    <string>.isdigit()\n",
    "    <string>.islower()\n",
    "    <string>.isnumeric()\n",
    "    <string>.isprintable()\n",
    "    <string>.isspace()\n",
    "    <string>.istitle()"
   ]
  },
  {
   "cell_type": "code",
   "execution_count": null,
   "id": "8a605f6f",
   "metadata": {},
   "outputs": [],
   "source": []
  }
 ],
 "metadata": {
  "kernelspec": {
   "display_name": "Python 3 (ipykernel)",
   "language": "python",
   "name": "python3"
  },
  "language_info": {
   "codemirror_mode": {
    "name": "ipython",
    "version": 3
   },
   "file_extension": ".py",
   "mimetype": "text/x-python",
   "name": "python",
   "nbconvert_exporter": "python",
   "pygments_lexer": "ipython3",
   "version": "3.9.12"
  }
 },
 "nbformat": 4,
 "nbformat_minor": 5
}
