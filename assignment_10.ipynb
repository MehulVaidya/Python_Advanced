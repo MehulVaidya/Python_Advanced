{
 "cells": [
  {
   "cell_type": "markdown",
   "id": "82836858",
   "metadata": {},
   "source": [
    "Q1. What is the difference between __getattr__ and __getattribute__?"
   ]
  },
  {
   "cell_type": "markdown",
   "id": "36ab7d2c",
   "metadata": {},
   "source": [
    "ans:\n",
    "    \n",
    "    the main difference is that,\n",
    "    __getattr__ is invoked only if the attribute was not found in usual ways.\n",
    "    \n",
    "    __getattribute__ is invoked before looking at the actual attributes of object.\n",
    "    \n",
    "    __getattr__ will be called for the times that __getattribute__ raised an AttributeError.\n",
    "    \n",
    "    "
   ]
  },
  {
   "cell_type": "code",
   "execution_count": null,
   "id": "dc7412cc",
   "metadata": {},
   "outputs": [],
   "source": []
  },
  {
   "cell_type": "markdown",
   "id": "b8a9305f",
   "metadata": {},
   "source": [
    "Q2. What is the difference between properties and descriptors?"
   ]
  },
  {
   "cell_type": "markdown",
   "id": "45c20861",
   "metadata": {},
   "source": [
    "ans:\n",
    "\n",
    "    The differences between Properties and Descriptors is:\n",
    "\n",
    "    properties: with properties we can bind getter, setter and delete functions together with an attribute name,\n",
    "    using the built-in property function or @property decorator. \n",
    "    When we do this, \n",
    "    each reference to an attribute looks like simple, direct access, but involes the appropriate function of the object.\n",
    "\n",
    "    descriptors: with Descriptor we can bind getter, setter and delete functions into a seperate class. \n",
    "    we then assign an object of this class to the attribute name in our main class. When we do this, each reference to an attribute looks like simple, direct access but invokes an appropriate function of descriptor object."
   ]
  },
  {
   "cell_type": "code",
   "execution_count": null,
   "id": "2183ca08",
   "metadata": {},
   "outputs": [],
   "source": []
  },
  {
   "cell_type": "code",
   "execution_count": null,
   "id": "6d9e014f",
   "metadata": {},
   "outputs": [],
   "source": []
  },
  {
   "cell_type": "markdown",
   "id": "95a0c814",
   "metadata": {},
   "source": [
    "Q3. What are the key differences in functionality between __getattr__ and __getattribute__, as well as\n",
    "properties and descriptors?"
   ]
  },
  {
   "cell_type": "markdown",
   "id": "4c01a647",
   "metadata": {},
   "source": [
    "ans:\n",
    "\n",
    "    The Key Differences between getattr, getattribute, Properties and Descriptors are:\n",
    "\n",
    "    __getattr__: Python will call this method when we request an attribute that hasn't already been defined\n",
    "\n",
    "    __getattribute__ : This method will invoked before looking at the actual attributes on the object.\n",
    "    if we have method in our class, python invokes this method for every attribute regardless whether it exists or not.\n",
    "\n",
    "    properties: with properties we can bind getter, setter and delete functions together with an attribute name,\n",
    "        using the built-in property function or @property decorator. \n",
    "        When we do this, \n",
    "        each reference to an attribute looks like simple, direct access, but involes the appropriate function of the object.\n",
    "\n",
    "    descriptors: with Descriptor we can bind getter, setter and delete functions into a seperate class. \n",
    "    we then assign an object of this class to the attribute name in our main class. When we do this, each reference to an attribute looks like simple, direct access but invokes an appropriate function of descriptor object."
   ]
  },
  {
   "cell_type": "code",
   "execution_count": null,
   "id": "20d7405d",
   "metadata": {},
   "outputs": [],
   "source": []
  },
  {
   "cell_type": "code",
   "execution_count": null,
   "id": "b71ba8b6",
   "metadata": {},
   "outputs": [],
   "source": []
  }
 ],
 "metadata": {
  "kernelspec": {
   "display_name": "Python 3 (ipykernel)",
   "language": "python",
   "name": "python3"
  },
  "language_info": {
   "codemirror_mode": {
    "name": "ipython",
    "version": 3
   },
   "file_extension": ".py",
   "mimetype": "text/x-python",
   "name": "python",
   "nbconvert_exporter": "python",
   "pygments_lexer": "ipython3",
   "version": "3.9.12"
  }
 },
 "nbformat": 4,
 "nbformat_minor": 5
}
