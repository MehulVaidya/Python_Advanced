{
 "cells": [
  {
   "cell_type": "markdown",
   "id": "a4ce4fe7",
   "metadata": {},
   "source": [
    "Q1. Describe three applications for exception processing."
   ]
  },
  {
   "cell_type": "markdown",
   "id": "4107d786",
   "metadata": {},
   "source": [
    "ans:\n",
    "    \n",
    "    exception processing is used to find exceptions that have caused error at runtime in the code.\n",
    "    \n",
    "    a few examples of exception processing are:\n",
    "    \n",
    "    1. to check file exceptions caused in file handling.\n",
    "    2. ro check Arithematic exceptions.\n",
    "    3. to check Invalid input in application."
   ]
  },
  {
   "cell_type": "code",
   "execution_count": null,
   "id": "890e2cfa",
   "metadata": {},
   "outputs": [],
   "source": []
  },
  {
   "cell_type": "code",
   "execution_count": null,
   "id": "0b0da4e8",
   "metadata": {},
   "outputs": [],
   "source": []
  },
  {
   "cell_type": "markdown",
   "id": "a5f1110f",
   "metadata": {},
   "source": [
    "Q2. What happens if you don&#39;t do something extra to treat an exception?"
   ]
  },
  {
   "cell_type": "markdown",
   "id": "200ac3bf",
   "metadata": {},
   "source": [
    "ans:\n",
    "    \n",
    "    if we dont handle exceptions in our code , \n",
    "    then it may stop then entire application.\n",
    "    \n",
    "    further code will not run due to exception not handled."
   ]
  },
  {
   "cell_type": "code",
   "execution_count": null,
   "id": "79800aba",
   "metadata": {},
   "outputs": [],
   "source": []
  },
  {
   "cell_type": "code",
   "execution_count": null,
   "id": "af7e29a5",
   "metadata": {},
   "outputs": [],
   "source": []
  },
  {
   "cell_type": "markdown",
   "id": "4dc877b4",
   "metadata": {},
   "source": [
    "Q3. What are your options for recovering from an exception in your script?"
   ]
  },
  {
   "cell_type": "markdown",
   "id": "051aa72f",
   "metadata": {},
   "source": [
    "ans:\n",
    "    \n",
    "    try and except and finally blocks can be used to handle exceptions in the script."
   ]
  },
  {
   "cell_type": "code",
   "execution_count": null,
   "id": "df5e363b",
   "metadata": {},
   "outputs": [],
   "source": []
  },
  {
   "cell_type": "code",
   "execution_count": null,
   "id": "03c0a47c",
   "metadata": {},
   "outputs": [],
   "source": []
  },
  {
   "cell_type": "markdown",
   "id": "2bdd3724",
   "metadata": {},
   "source": [
    "Q4. Describe two methods for triggering exceptions in your script."
   ]
  },
  {
   "cell_type": "markdown",
   "id": "867edb54",
   "metadata": {},
   "source": [
    "ans:\n",
    "    \n",
    "    raise and assert are the methods for triggering exceptions"
   ]
  },
  {
   "cell_type": "code",
   "execution_count": 4,
   "id": "3c6c3b8d",
   "metadata": {},
   "outputs": [
    {
     "ename": "Exception",
     "evalue": "value of a cant be zero",
     "output_type": "error",
     "traceback": [
      "\u001b[1;31m---------------------------------------------------------------------------\u001b[0m",
      "\u001b[1;31mException\u001b[0m                                 Traceback (most recent call last)",
      "Input \u001b[1;32mIn [4]\u001b[0m, in \u001b[0;36m<cell line: 2>\u001b[1;34m()\u001b[0m\n\u001b[0;32m      1\u001b[0m a \u001b[38;5;241m=\u001b[39m \u001b[38;5;241m0\u001b[39m\n\u001b[1;32m----> 2\u001b[0m \u001b[38;5;28;01mraise\u001b[39;00m \u001b[38;5;167;01mException\u001b[39;00m(\u001b[38;5;124m'\u001b[39m\u001b[38;5;124mvalue of a cant be zero\u001b[39m\u001b[38;5;124m'\u001b[39m)\n",
      "\u001b[1;31mException\u001b[0m: value of a cant be zero"
     ]
    }
   ],
   "source": [
    "a = 0#raise\n",
    "raise Exception('value of a cant be zero')"
   ]
  },
  {
   "cell_type": "code",
   "execution_count": 5,
   "id": "cd358fdf",
   "metadata": {},
   "outputs": [
    {
     "ename": "AssertionError",
     "evalue": "10 not greater than 20",
     "output_type": "error",
     "traceback": [
      "\u001b[1;31m---------------------------------------------------------------------------\u001b[0m",
      "\u001b[1;31mAssertionError\u001b[0m                            Traceback (most recent call last)",
      "Input \u001b[1;32mIn [5]\u001b[0m, in \u001b[0;36m<cell line: 1>\u001b[1;34m()\u001b[0m\n\u001b[1;32m----> 1\u001b[0m \u001b[38;5;28;01massert\u001b[39;00m(\u001b[38;5;241m10\u001b[39m\u001b[38;5;241m>\u001b[39m\u001b[38;5;241m20\u001b[39m), \u001b[38;5;124m'\u001b[39m\u001b[38;5;124m10 not greater than 20\u001b[39m\u001b[38;5;124m'\u001b[39m\n",
      "\u001b[1;31mAssertionError\u001b[0m: 10 not greater than 20"
     ]
    }
   ],
   "source": [
    "assert(10>20), '10 not greater than 20' #assert"
   ]
  },
  {
   "cell_type": "code",
   "execution_count": null,
   "id": "a1a7844f",
   "metadata": {},
   "outputs": [],
   "source": []
  },
  {
   "cell_type": "code",
   "execution_count": null,
   "id": "47299700",
   "metadata": {},
   "outputs": [],
   "source": []
  },
  {
   "cell_type": "markdown",
   "id": "95b51129",
   "metadata": {},
   "source": [
    "Q5. Identify two methods for specifying actions to be executed at termination time, regardless of\n",
    "whether or not an exception"
   ]
  },
  {
   "cell_type": "markdown",
   "id": "12260f0c",
   "metadata": {},
   "source": [
    "ans :\n",
    "    \n",
    "    we can use else and finally for specifying actions to be exceuted regardless of the exception or not."
   ]
  },
  {
   "cell_type": "code",
   "execution_count": null,
   "id": "0aa39966",
   "metadata": {},
   "outputs": [],
   "source": []
  }
 ],
 "metadata": {
  "kernelspec": {
   "display_name": "Python 3 (ipykernel)",
   "language": "python",
   "name": "python3"
  },
  "language_info": {
   "codemirror_mode": {
    "name": "ipython",
    "version": 3
   },
   "file_extension": ".py",
   "mimetype": "text/x-python",
   "name": "python",
   "nbconvert_exporter": "python",
   "pygments_lexer": "ipython3",
   "version": "3.9.12"
  }
 },
 "nbformat": 4,
 "nbformat_minor": 5
}
