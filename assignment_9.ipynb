{
 "cells": [
  {
   "cell_type": "markdown",
   "id": "0a374de2",
   "metadata": {},
   "source": [
    "Q1. In Python 3.X, what are the names and functions of string object types?"
   ]
  },
  {
   "cell_type": "markdown",
   "id": "16a649c2",
   "metadata": {},
   "source": [
    "- capitalize() Converts the first character to upper case\n",
    "\n",
    "- center() Returns a centered string\n",
    "\n",
    "- count() Returns the number of times a specified value occurs in a string\n",
    "\n",
    "- endswith() Returns true if the string ends with the specified value\n",
    "- find() Searches the string for a specified value and returns the position of where it was found\n",
    "- isalnum() Returns True if all characters in the string are alphanumeric\n",
    "- isalpha() Returns True if all characters in the string are in the alphabet\n",
    "- isascii() Returns True if all characters in the string are ascii characters\n",
    "- isdecimal() Returns True if all characters in the string are decimals\n",
    "- isdigit() Returns True if all characters in the string are digits\n",
    "- isidentifier() Returns True if the string is an identifier\n",
    "- islower() Returns True if all characters in the string are lower case\n",
    "- isnumeric() Returns True if all characters in the string are numeric\n",
    "- isupper() Returns True if all characters in the string are upper case\n",
    "- join() Converts the elements of an iterable into a string\n",
    "- ljust() Returns a left justified version of the string\n",
    "- lower() Converts a string into lower case\n",
    "- lstrip() Returns a left trim version of the string\n",
    "- replace()\tReturns a string where a specified value is replaced with a specified value\n",
    "- startswith()\tReturns true if the string starts with the specified value\n",
    "- strip()\tReturns a trimmed version of the string\n",
    "- swapcase()\tSwaps cases, lower case becomes upper case and vice versa\n",
    "- title()\tConverts the first character of each word to upper case\n",
    "- upper()\tConverts a string into upper case"
   ]
  },
  {
   "cell_type": "code",
   "execution_count": null,
   "id": "a9b2c167",
   "metadata": {},
   "outputs": [],
   "source": []
  },
  {
   "cell_type": "code",
   "execution_count": null,
   "id": "fe6d27c0",
   "metadata": {},
   "outputs": [],
   "source": []
  },
  {
   "cell_type": "markdown",
   "id": "68f7b3db",
   "metadata": {},
   "source": [
    "Q2. How do the string forms in Python 3.X vary in terms of operations?"
   ]
  },
  {
   "cell_type": "markdown",
   "id": "35684db7",
   "metadata": {},
   "source": [
    "ans:\n",
    "    \n",
    "     In Python3 default format of strings is Unicode ,\n",
    "     Whereas in Python2 we need to  mention Unicode value using u.\n",
    "\n"
   ]
  },
  {
   "cell_type": "code",
   "execution_count": null,
   "id": "522541e7",
   "metadata": {},
   "outputs": [],
   "source": []
  },
  {
   "cell_type": "code",
   "execution_count": null,
   "id": "006a66b3",
   "metadata": {},
   "outputs": [],
   "source": []
  },
  {
   "cell_type": "markdown",
   "id": "7026dda9",
   "metadata": {},
   "source": [
    "Q3. In 3.X, how do you put non-ASCII Unicode characters in a string?"
   ]
  },
  {
   "cell_type": "markdown",
   "id": "81d99628",
   "metadata": {},
   "source": [
    "ans:\n",
    "    \n",
    "    we can use unidecode() method from unidecode library to put non-ASCII Unicode Characters in a string."
   ]
  },
  {
   "cell_type": "code",
   "execution_count": 1,
   "id": "18f8d552",
   "metadata": {},
   "outputs": [],
   "source": [
    "from unidecode import unidecode"
   ]
  },
  {
   "cell_type": "code",
   "execution_count": 2,
   "id": "791aabfe",
   "metadata": {},
   "outputs": [
    {
     "name": "stdout",
     "output_type": "stream",
     "text": [
      "ulybat'sia Vladimir Putin\n"
     ]
    }
   ],
   "source": [
    "print(unidecode(\"улыбаться Владимир Путин\"))\n"
   ]
  },
  {
   "cell_type": "code",
   "execution_count": null,
   "id": "95e63fb2",
   "metadata": {},
   "outputs": [],
   "source": []
  },
  {
   "cell_type": "code",
   "execution_count": null,
   "id": "6f92a203",
   "metadata": {},
   "outputs": [],
   "source": []
  },
  {
   "cell_type": "markdown",
   "id": "23a2f33b",
   "metadata": {},
   "source": [
    "Q4. In Python 3.X, what are the key differences between text-mode and binary-mode files?"
   ]
  },
  {
   "cell_type": "markdown",
   "id": "723b6bb3",
   "metadata": {},
   "source": [
    "ans:\n",
    "    \n",
    "    The difference is that a text file contains textual information in the form of alphabets, \n",
    "    \n",
    "    digits and special characters or symbols. \n",
    "    \n",
    "    a binary file contains bytes or a compiled version of a text file.\n",
    "\n"
   ]
  },
  {
   "cell_type": "code",
   "execution_count": null,
   "id": "55547ae1",
   "metadata": {},
   "outputs": [],
   "source": []
  },
  {
   "cell_type": "code",
   "execution_count": null,
   "id": "63758984",
   "metadata": {},
   "outputs": [],
   "source": []
  },
  {
   "cell_type": "markdown",
   "id": "6b50ff3e",
   "metadata": {},
   "source": [
    "Q5. How can you interpret a Unicode text file containing text encoded in a different encoding than\n",
    "your platform&#39;s default?"
   ]
  },
  {
   "cell_type": "markdown",
   "id": "f15917a1",
   "metadata": {},
   "source": [
    "ans:\n",
    "    \n",
    "    the encode() and decode() method can be used to interpret a Unicode text file containing text,\n",
    "    encoded in a different encoding than our platform's default, \n"
   ]
  },
  {
   "cell_type": "code",
   "execution_count": null,
   "id": "f5446674",
   "metadata": {},
   "outputs": [],
   "source": []
  },
  {
   "cell_type": "code",
   "execution_count": null,
   "id": "c66becb4",
   "metadata": {},
   "outputs": [],
   "source": []
  },
  {
   "cell_type": "markdown",
   "id": "d7ff8b98",
   "metadata": {},
   "source": [
    "Q6. What is the best way to make a Unicode text file in a particular encoding format?"
   ]
  },
  {
   "cell_type": "markdown",
   "id": "d5c0d022",
   "metadata": {},
   "source": [
    "ans:\n",
    "    \n",
    "    str.encode() and file.write() to make a Unicode text file in a particular encoding format.\n",
    "\n",
    "- str.encode(encoding) with encoding set to utf8 to encode str.\n",
    "- open(file, mode) to open a file with mode set to wb . wb writes to files in binary mode & preserves UTF-8format.\n",
    "- file.write(data) to write data to the file."
   ]
  },
  {
   "cell_type": "code",
   "execution_count": 5,
   "id": "7e200a89",
   "metadata": {},
   "outputs": [
    {
     "name": "stdout",
     "output_type": "stream",
     "text": [
      "b'\\xd1\\x83\\xd0\\xbb\\xd1\\x8b\\xd0\\xb1\\xd0\\xb0\\xd1\\x82\\xd1\\x8c\\xd1\\x81\\xd1\\x8f \\xd0\\x92\\xd0\\xbb\\xd0\\xb0\\xd0\\xb4\\xd0\\xb8\\xd0\\xbc\\xd0\\xb8\\xd1\\x80 \\xd0\\x9f\\xd1\\x83\\xd1\\x82\\xd0\\xb8\\xd0\\xbd'\n",
      "\n",
      "b'\\xd1\\x83\\xd0\\xbb\\xd1\\x8b\\xd0\\xb1\\xd0\\xb0\\xd1\\x82\\xd1\\x8c\\xd1\\x81\\xd1\\x8f \\xd0\\x92\\xd0\\xbb\\xd0\\xb0\\xd0\\xb4\\xd0\\xb8\\xd0\\xbc\\xd0\\xb8\\xd1\\x80 \\xd0\\x9f\\xd1\\x83\\xd1\\x82\\xd0\\xb8\\xd0\\xbd'\n"
     ]
    }
   ],
   "source": [
    "uni_text = u\"улыбаться Владимир Путин\"\n",
    "encoded_uni_text = uni_text.encode(\"utf-8\")\n",
    "print(encoded_uni_text,end=\"\\n\\n\")\n",
    "\n",
    "file = open(\"w_file.txt\",\"wb\")\n",
    "file.write(encoded_uni_text)\n",
    "file.close()\n",
    "\n",
    "r_file = open(\"w_file.txt\",\"rb\")\n",
    "data = r_file.read()\n",
    "print(data)"
   ]
  },
  {
   "cell_type": "code",
   "execution_count": null,
   "id": "bad56475",
   "metadata": {},
   "outputs": [],
   "source": []
  },
  {
   "cell_type": "code",
   "execution_count": null,
   "id": "0fd9de92",
   "metadata": {},
   "outputs": [],
   "source": []
  },
  {
   "cell_type": "markdown",
   "id": "93f80089",
   "metadata": {},
   "source": [
    "Q7. What qualifies ASCII text as a form of Unicode text?"
   ]
  },
  {
   "cell_type": "markdown",
   "id": "fdbf729f",
   "metadata": {},
   "source": [
    "ans:\n",
    "    \n",
    "    ASCII encodes symbols, digits, letters. \n",
    "    \n",
    "    whereas unicode encodes special texts from different languages, letters, symbols, etc.\n",
    "    \n",
    "    It can be said that ASCII is a subset of the Unicode encoding scheme"
   ]
  },
  {
   "cell_type": "code",
   "execution_count": null,
   "id": "186f3e97",
   "metadata": {},
   "outputs": [],
   "source": []
  },
  {
   "cell_type": "code",
   "execution_count": null,
   "id": "f596df55",
   "metadata": {},
   "outputs": [],
   "source": []
  },
  {
   "cell_type": "markdown",
   "id": "9e94a10f",
   "metadata": {},
   "source": [
    "Q8. How much of an effect does the change in string types in Python 3.X have on your code?"
   ]
  },
  {
   "cell_type": "markdown",
   "id": "187dfe55",
   "metadata": {},
   "source": [
    "ans:\n",
    "    \n",
    "    Python 3 stores strings as Unicode by default,\n",
    "    \n",
    "    whereas Python 2 requires us to mark a string with a u if we want to store it as unicode. \n",
    "    \n",
    "    unicode strings are more versatile than ASCII strings, which are the Python 3.X default, \n",
    "    \n",
    "    as they can store letters from foreign languages as well as emoji and the standard Roman letters and numerals."
   ]
  },
  {
   "cell_type": "code",
   "execution_count": null,
   "id": "debc995a",
   "metadata": {},
   "outputs": [],
   "source": []
  }
 ],
 "metadata": {
  "kernelspec": {
   "display_name": "Python 3 (ipykernel)",
   "language": "python",
   "name": "python3"
  },
  "language_info": {
   "codemirror_mode": {
    "name": "ipython",
    "version": 3
   },
   "file_extension": ".py",
   "mimetype": "text/x-python",
   "name": "python",
   "nbconvert_exporter": "python",
   "pygments_lexer": "ipython3",
   "version": "3.9.12"
  }
 },
 "nbformat": 4,
 "nbformat_minor": 5
}
