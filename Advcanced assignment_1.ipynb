{
 "cells": [
  {
   "cell_type": "markdown",
   "id": "a0fe3860",
   "metadata": {},
   "source": [
    "Q1. What is the purpose of Python&#39;s OOP?"
   ]
  },
  {
   "cell_type": "markdown",
   "id": "f5ae9c5c",
   "metadata": {},
   "source": [
    "'''\n",
    "\n",
    "ans :\n",
    "\n",
    "The main opurpose for python oops is code reusability, gives the code a clear structure and is easy to find if we have written 1000 lines of code .\n",
    "\n",
    "'''"
   ]
  },
  {
   "cell_type": "code",
   "execution_count": null,
   "id": "79ee5e47",
   "metadata": {},
   "outputs": [],
   "source": []
  },
  {
   "cell_type": "markdown",
   "id": "2b6ceafe",
   "metadata": {},
   "source": [
    "Q2. Where does an inheritance search look for an attribute?"
   ]
  },
  {
   "cell_type": "markdown",
   "id": "40e27638",
   "metadata": {},
   "source": [
    "'''\n",
    "\n",
    "ans:\n",
    "\n",
    "It looks for an attribute in present class and  parent class that it was inherited from.\n",
    "\n",
    "'''"
   ]
  },
  {
   "cell_type": "code",
   "execution_count": null,
   "id": "bc474aec",
   "metadata": {},
   "outputs": [],
   "source": []
  },
  {
   "cell_type": "markdown",
   "id": "3740a93b",
   "metadata": {},
   "source": [
    "Q3. How do you distinguish between a class object and an instance object?"
   ]
  },
  {
   "cell_type": "markdown",
   "id": "b3830e4c",
   "metadata": {},
   "source": [
    "'''\n",
    "\n",
    "ans:\n",
    "\n",
    "A class is a blueprint of real world entity,  where as object is a  instance of this class.\n",
    "\n",
    "for eg : tv channels  is class,  where as sports channel, news channel is an instance of this class.\n",
    "\n",
    "'''"
   ]
  },
  {
   "cell_type": "markdown",
   "id": "f99464d1",
   "metadata": {},
   "source": []
  },
  {
   "cell_type": "markdown",
   "id": "745cd459",
   "metadata": {},
   "source": [
    "Q4. What makes the first argument in a class’s method function special?"
   ]
  },
  {
   "cell_type": "markdown",
   "id": "c7a50c59",
   "metadata": {},
   "source": [
    "'''\n",
    "\n",
    "ans:\n",
    "\n",
    "the first arguement is called a pointer , which tells the class that th given attributes and methods are related to it.\n",
    "\n",
    "without the pointer(self or anything else that reserved word) the class will not understand the methods , attributes are defined for it.\n",
    "\n",
    "'''"
   ]
  },
  {
   "cell_type": "code",
   "execution_count": null,
   "id": "d1b3c259",
   "metadata": {},
   "outputs": [],
   "source": []
  },
  {
   "cell_type": "markdown",
   "id": "480f4676",
   "metadata": {},
   "source": [
    "Q5. What is the purpose of the __init__ method?"
   ]
  },
  {
   "cell_type": "markdown",
   "id": "84cd1fc8",
   "metadata": {},
   "source": [
    "'''\n",
    "\n",
    "ans:\n",
    "\n",
    "'__init__ method' is used so that we can pass values directly at the time of object/instance creation.\n",
    "\n",
    "'''"
   ]
  },
  {
   "cell_type": "code",
   "execution_count": null,
   "id": "692eccca",
   "metadata": {},
   "outputs": [],
   "source": []
  },
  {
   "cell_type": "markdown",
   "id": "54667c60",
   "metadata": {},
   "source": [
    "Q6. What is the process for creating a class instance?"
   ]
  },
  {
   "cell_type": "markdown",
   "id": "15d4533d",
   "metadata": {},
   "source": [
    "'''\n",
    "\n",
    "ans:\n",
    "\n",
    "class abc:\n",
    "    pass\n",
    "    \n",
    "c = abc()\n",
    "\n",
    "it is simply creating a variable and assigning it to class.\n",
    "\n",
    "'''"
   ]
  },
  {
   "cell_type": "code",
   "execution_count": null,
   "id": "ebeaed26",
   "metadata": {},
   "outputs": [],
   "source": []
  },
  {
   "cell_type": "markdown",
   "id": "6809de0d",
   "metadata": {},
   "source": [
    "Q7. What is the process for creating a class?"
   ]
  },
  {
   "cell_type": "markdown",
   "id": "68d68084",
   "metadata": {},
   "source": [
    "'''\n",
    "\n",
    "ans:\n",
    "\n",
    "for creating a class we  use the 'class' keyword.\n",
    "\n",
    "class classname:\n",
    "    \n",
    "    pass\n",
    "    \n",
    "'''"
   ]
  },
  {
   "cell_type": "code",
   "execution_count": null,
   "id": "14b72562",
   "metadata": {},
   "outputs": [],
   "source": []
  },
  {
   "cell_type": "markdown",
   "id": "ec2c4303",
   "metadata": {},
   "source": [
    "Q8. How would you define the superclasses of a class?"
   ]
  },
  {
   "cell_type": "markdown",
   "id": "1b314f56",
   "metadata": {},
   "source": [
    "'''\n",
    "\n",
    "ans:\n",
    "\n",
    "superclasses are those classes that  we inherit attributes and methods from into another class(child).\n",
    "\n",
    "with the help of superclass we dont need to write the code again we can just inherit it.\n",
    "\n",
    "'''"
   ]
  }
 ],
 "metadata": {
  "kernelspec": {
   "display_name": "Python 3 (ipykernel)",
   "language": "python",
   "name": "python3"
  },
  "language_info": {
   "codemirror_mode": {
    "name": "ipython",
    "version": 3
   },
   "file_extension": ".py",
   "mimetype": "text/x-python",
   "name": "python",
   "nbconvert_exporter": "python",
   "pygments_lexer": "ipython3",
   "version": "3.9.12"
  }
 },
 "nbformat": 4,
 "nbformat_minor": 5
}
