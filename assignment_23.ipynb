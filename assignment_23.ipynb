{
 "cells": [
  {
   "cell_type": "markdown",
   "id": "76956ea4",
   "metadata": {},
   "source": [
    "Q1. If you have any, what are your choices for increasing the comparison between different figures on\n",
    "the same graph?"
   ]
  },
  {
   "cell_type": "markdown",
   "id": "4bccf3ff",
   "metadata": {},
   "source": [
    "ans:\n",
    "    \n",
    "    we can use subplots provided by matplotlib for increasing the comparison between different figures on the same graph."
   ]
  },
  {
   "cell_type": "code",
   "execution_count": null,
   "id": "5680be51",
   "metadata": {},
   "outputs": [],
   "source": []
  },
  {
   "cell_type": "code",
   "execution_count": null,
   "id": "766d078d",
   "metadata": {},
   "outputs": [],
   "source": []
  },
  {
   "cell_type": "markdown",
   "id": "a776ee98",
   "metadata": {},
   "source": [
    "Q2. Can you explain the benefit of compound interest over a higher rate of interest that does not\n",
    "compound after reading this chapter?"
   ]
  },
  {
   "cell_type": "markdown",
   "id": "47423bf1",
   "metadata": {},
   "source": [
    "ans:\n",
    "    \n",
    "    compound interest makes money grow faster ,\n",
    "    because interest is calculated on the accumulated interest over time as well as on your original principal.\n",
    "    compounding can create a snowball effect, \n",
    "    as the original investments plus the income earned from those investments grow together."
   ]
  },
  {
   "cell_type": "code",
   "execution_count": null,
   "id": "b2e8f074",
   "metadata": {},
   "outputs": [],
   "source": []
  },
  {
   "cell_type": "code",
   "execution_count": null,
   "id": "e3317164",
   "metadata": {},
   "outputs": [],
   "source": []
  },
  {
   "cell_type": "markdown",
   "id": "83c3fe37",
   "metadata": {},
   "source": [
    "Q3. What is a histogram, exactly? Name a numpy method for creating such a graph."
   ]
  },
  {
   "cell_type": "markdown",
   "id": "fd627c72",
   "metadata": {},
   "source": [
    "ans:\n",
    "    \n",
    "    histogram is the way to visualize the frequency distribution of a dataset by splitting it into  bins.\n",
    "    \n",
    "    numpy has a built-in numpy.histogram() function which represents the frequency of data distribution in the graphical form.\n",
    "    \n",
    "    numpy.histogram(data, bins=10, range=None, normed=None, weights=None, density=None)"
   ]
  },
  {
   "cell_type": "code",
   "execution_count": null,
   "id": "1602224e",
   "metadata": {},
   "outputs": [],
   "source": []
  },
  {
   "cell_type": "code",
   "execution_count": null,
   "id": "e11654ab",
   "metadata": {},
   "outputs": [],
   "source": []
  },
  {
   "cell_type": "markdown",
   "id": "f253bbbe",
   "metadata": {},
   "source": [
    "Q4. If necessary, how do you change the aspect ratios between the X and Y axes?"
   ]
  },
  {
   "cell_type": "markdown",
   "id": "946c7ca9",
   "metadata": {},
   "source": [
    "ans:\n",
    "    \n",
    "    figure(figsize=(12,8)) function inside the matplot.pyplot library  can change the aspect ratios and X and Y."
   ]
  },
  {
   "cell_type": "code",
   "execution_count": null,
   "id": "57e1a293",
   "metadata": {},
   "outputs": [],
   "source": []
  },
  {
   "cell_type": "code",
   "execution_count": null,
   "id": "2dabb2fb",
   "metadata": {},
   "outputs": [],
   "source": []
  },
  {
   "cell_type": "markdown",
   "id": "290754b1",
   "metadata": {},
   "source": [
    "Q5. Compare and contrast the three types of array multiplication between two numpy arrays: dot\n",
    "product, outer product, and regular multiplication of two numpy arrays."
   ]
  },
  {
   "cell_type": "markdown",
   "id": "90c7be6a",
   "metadata": {},
   "source": [
    "ans:\n",
    "    \n",
    "    In regular multiplication values of same index get multiplied.\n",
    "\n",
    "    In dot product there is row wise multiplication, row of one array with column of second array.\n",
    "    \n",
    "    In outer multiplication every element of first array a1 will be multiply by every element of other array a2 such such the number of columns will be equal to the number of element in another array a2."
   ]
  },
  {
   "cell_type": "code",
   "execution_count": null,
   "id": "0671bc57",
   "metadata": {},
   "outputs": [],
   "source": []
  },
  {
   "cell_type": "code",
   "execution_count": null,
   "id": "0ea7f448",
   "metadata": {},
   "outputs": [],
   "source": []
  },
  {
   "cell_type": "markdown",
   "id": "82dbefa0",
   "metadata": {},
   "source": [
    "Q6. Before you buy a home, which numpy function will you use to measure your monthly mortgage\n",
    "payment?"
   ]
  },
  {
   "cell_type": "markdown",
   "id": "a26046be",
   "metadata": {},
   "source": [
    "ans:\n",
    "    \n",
    "    we can use np.pmt(rate, nper, pv) function  to calculate monthly mortgage payment before purchasing  a house.\n",
    "\n",
    "- rate - interest rate\n",
    "- nper -  payment periods\n",
    "- pv -  mortgage loan"
   ]
  },
  {
   "cell_type": "code",
   "execution_count": null,
   "id": "abb08ba0",
   "metadata": {},
   "outputs": [],
   "source": []
  },
  {
   "cell_type": "code",
   "execution_count": null,
   "id": "ab81a12b",
   "metadata": {},
   "outputs": [],
   "source": []
  },
  {
   "cell_type": "markdown",
   "id": "592ad7b0",
   "metadata": {},
   "source": [
    "Q7. Can string data be stored in numpy arrays? If so, list at least one restriction that applies to this\n",
    "data."
   ]
  },
  {
   "cell_type": "markdown",
   "id": "d90d06a4",
   "metadata": {},
   "source": [
    "ans:\n",
    "    \n",
    "    the  elements of a numpy array are usually numbers, but can also be boolians, strings, or other objects.\n",
    "    \n",
    "    limitation- whene we store the data of string dtype then it should keep in mind that the string which is having the maximum length is the limit."
   ]
  },
  {
   "cell_type": "code",
   "execution_count": null,
   "id": "f87cf415",
   "metadata": {},
   "outputs": [],
   "source": []
  }
 ],
 "metadata": {
  "kernelspec": {
   "display_name": "Python 3 (ipykernel)",
   "language": "python",
   "name": "python3"
  },
  "language_info": {
   "codemirror_mode": {
    "name": "ipython",
    "version": 3
   },
   "file_extension": ".py",
   "mimetype": "text/x-python",
   "name": "python",
   "nbconvert_exporter": "python",
   "pygments_lexer": "ipython3",
   "version": "3.9.12"
  }
 },
 "nbformat": 4,
 "nbformat_minor": 5
}
