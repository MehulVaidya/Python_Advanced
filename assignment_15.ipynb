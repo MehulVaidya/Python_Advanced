{
 "cells": [
  {
   "cell_type": "markdown",
   "id": "6c413a48",
   "metadata": {},
   "source": [
    "1. What are the new features added in Python 3.8 version?"
   ]
  },
  {
   "cell_type": "markdown",
   "id": "d11ef4f1",
   "metadata": {},
   "source": [
    "ans:\n",
    "    \n",
    "    one of biggest change is the assignmnt expressions, the new notation is :=, this operator is called the walrus operator.\n",
    "    \n",
    "    Dict comprehensions have been modified so that the key is computed first and the value second.\n",
    "    \n",
    "    f-strings now support = , to make string interpolation easy. \n",
    "    \n",
    "    If we miss a comma in your code such as a = [(1, 2) (3, 4)], instead of throwing TypeError, it displays an informative Syntax warning."
   ]
  },
  {
   "cell_type": "code",
   "execution_count": 12,
   "id": "3a4902e2",
   "metadata": {},
   "outputs": [
    {
     "name": "stdout",
     "output_type": "stream",
     "text": [
      "True\n"
     ]
    }
   ],
   "source": [
    "walrus = True#earlier\n",
    "print(walrus)\n"
   ]
  },
  {
   "cell_type": "code",
   "execution_count": 13,
   "id": "3ac6929a",
   "metadata": {},
   "outputs": [
    {
     "name": "stdout",
     "output_type": "stream",
     "text": [
      "True\n"
     ]
    }
   ],
   "source": [
    "print(walrus:=True)#new 3.8 version"
   ]
  },
  {
   "cell_type": "code",
   "execution_count": null,
   "id": "e231f4f3",
   "metadata": {},
   "outputs": [],
   "source": []
  },
  {
   "cell_type": "code",
   "execution_count": null,
   "id": "7b16159f",
   "metadata": {},
   "outputs": [],
   "source": []
  },
  {
   "cell_type": "code",
   "execution_count": null,
   "id": "ec792b10",
   "metadata": {},
   "outputs": [],
   "source": []
  },
  {
   "cell_type": "code",
   "execution_count": null,
   "id": "d995eedf",
   "metadata": {},
   "outputs": [],
   "source": []
  },
  {
   "cell_type": "code",
   "execution_count": null,
   "id": "fa7dab10",
   "metadata": {},
   "outputs": [],
   "source": []
  },
  {
   "cell_type": "markdown",
   "id": "fbd51a1d",
   "metadata": {},
   "source": [
    "2. What is monkey patching in Python?"
   ]
  },
  {
   "cell_type": "markdown",
   "id": "4d207a7a",
   "metadata": {},
   "source": [
    "ans:\n",
    "    \n",
    "    monkey patching  refers to making dynamic (or run-time) modifications to a class or module. In Python, we can actually change the behavior of code at run-time."
   ]
  },
  {
   "cell_type": "markdown",
   "id": "07c32f5b",
   "metadata": {},
   "source": [
    "class A:\n",
    "    def func(self):\n",
    "        print(\"func() is being called\")\n",
    "\n",
    "def monkey_f(self):\n",
    "    print(\"monkey_f() is being called\")\n",
    "\n",
    "A.func = monkey_f\n",
    "obj = A()\n",
    "sobj.func()\n"
   ]
  },
  {
   "cell_type": "code",
   "execution_count": 14,
   "id": "48e1c8b2",
   "metadata": {},
   "outputs": [
    {
     "name": "stdout",
     "output_type": "stream",
     "text": [
      "monkey_f() is being called\n"
     ]
    }
   ],
   "source": [
    "class A:\n",
    "    def func(self):\n",
    "        print(\"func() is being called\")\n",
    "\n",
    "def monkey_f(self):\n",
    "    print(\"monkey_f() is being called\")\n",
    "\n",
    "A.func = monkey_f\n",
    "obj = A()\n",
    "obj.func()\n"
   ]
  },
  {
   "cell_type": "code",
   "execution_count": null,
   "id": "02b6afcb",
   "metadata": {},
   "outputs": [],
   "source": []
  },
  {
   "cell_type": "code",
   "execution_count": null,
   "id": "746ddebf",
   "metadata": {},
   "outputs": [],
   "source": []
  },
  {
   "cell_type": "markdown",
   "id": "be46ff04",
   "metadata": {},
   "source": [
    "3. What is the difference between a shallow copy and deep copy?"
   ]
  },
  {
   "cell_type": "markdown",
   "id": "16f2ed3c",
   "metadata": {},
   "source": [
    "ans:\n",
    "    \n",
    "    When an object is copied using copy(), it is called shallow copy as changes made in copied object,\n",
    "    will also make corresponding changes in original object, because both the objects will be referencing same address location.\n",
    "\n",
    "    When an object is copied using deepcopy(), it is called deep copy as changes made in copied object\n",
    "    will not make corresponding changes in original object, because both the objects will not be referencing same address location."
   ]
  },
  {
   "cell_type": "code",
   "execution_count": null,
   "id": "41af54bc",
   "metadata": {},
   "outputs": [],
   "source": []
  },
  {
   "cell_type": "code",
   "execution_count": null,
   "id": "213426ba",
   "metadata": {},
   "outputs": [],
   "source": []
  },
  {
   "cell_type": "markdown",
   "id": "63ff1c5a",
   "metadata": {},
   "source": [
    "4. What is the maximum possible length of an identifier?"
   ]
  },
  {
   "cell_type": "markdown",
   "id": "a63f4082",
   "metadata": {},
   "source": [
    "ans:\n",
    "    \n",
    "    the highest possible length of an identifier is 79 characters."
   ]
  },
  {
   "cell_type": "code",
   "execution_count": null,
   "id": "9a199a73",
   "metadata": {},
   "outputs": [],
   "source": []
  },
  {
   "cell_type": "code",
   "execution_count": null,
   "id": "948dc9ee",
   "metadata": {},
   "outputs": [],
   "source": []
  },
  {
   "cell_type": "markdown",
   "id": "522bf3ec",
   "metadata": {},
   "source": [
    "5. What is generator comprehension?"
   ]
  },
  {
   "cell_type": "markdown",
   "id": "47765680",
   "metadata": {},
   "source": [
    "ans:\n",
    "    \n",
    "    A generator comprehension is a single-line specification for defining a generator in Python.\n",
    "    \n",
    "    Generator comprehension uses round bracket"
   ]
  },
  {
   "cell_type": "code",
   "execution_count": 15,
   "id": "8a10eee4",
   "metadata": {},
   "outputs": [
    {
     "data": {
      "text/plain": [
       "[0, 1, 2, 3, 4, 5, 6, 7, 8, 9]"
      ]
     },
     "execution_count": 15,
     "metadata": {},
     "output_type": "execute_result"
    }
   ],
   "source": [
    "lst = [x for x in range(10)] # List Comprehension\n",
    "lst"
   ]
  },
  {
   "cell_type": "code",
   "execution_count": 18,
   "id": "1e0d12a8",
   "metadata": {},
   "outputs": [
    {
     "data": {
      "text/plain": [
       "<generator object <genexpr> at 0x000002775F167EB0>"
      ]
     },
     "execution_count": 18,
     "metadata": {},
     "output_type": "execute_result"
    }
   ],
   "source": [
    "gen = (x for x in lst if x%2 == 0) # Generator Comprehension\n",
    "gen #Generator Object"
   ]
  },
  {
   "cell_type": "code",
   "execution_count": 19,
   "id": "57da9064",
   "metadata": {},
   "outputs": [
    {
     "name": "stdout",
     "output_type": "stream",
     "text": [
      "0 2 4 6 8 "
     ]
    }
   ],
   "source": [
    "for ele in gen:\n",
    "    print(ele, end=\" \")"
   ]
  },
  {
   "cell_type": "code",
   "execution_count": null,
   "id": "c5035966",
   "metadata": {},
   "outputs": [],
   "source": []
  },
  {
   "cell_type": "code",
   "execution_count": null,
   "id": "0e337f78",
   "metadata": {},
   "outputs": [],
   "source": []
  }
 ],
 "metadata": {
  "kernelspec": {
   "display_name": "Python 3 (ipykernel)",
   "language": "python",
   "name": "python3"
  },
  "language_info": {
   "codemirror_mode": {
    "name": "ipython",
    "version": 3
   },
   "file_extension": ".py",
   "mimetype": "text/x-python",
   "name": "python",
   "nbconvert_exporter": "python",
   "pygments_lexer": "ipython3",
   "version": "3.9.12"
  }
 },
 "nbformat": 4,
 "nbformat_minor": 5
}
