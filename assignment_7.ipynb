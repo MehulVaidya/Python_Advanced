{
 "cells": [
  {
   "cell_type": "markdown",
   "id": "3e7ed90c",
   "metadata": {},
   "source": [
    "Q1. What is the purpose of the try statement?"
   ]
  },
  {
   "cell_type": "markdown",
   "id": "ec3c8b9a",
   "metadata": {},
   "source": [
    "ans:\n",
    "    \n",
    "    the try block is used for writing suspicious code that may cause an error.\n",
    "    \n",
    "    this error can be handled later on by except."
   ]
  },
  {
   "cell_type": "code",
   "execution_count": 1,
   "id": "c60a8055",
   "metadata": {},
   "outputs": [
    {
     "name": "stdout",
     "output_type": "stream",
     "text": [
      "unsupported operand type(s) for +: 'int' and 'str'\n"
     ]
    }
   ],
   "source": [
    "try:\n",
    "    print(1 + 'a')\n",
    "except Exception as e:\n",
    "    print(e)"
   ]
  },
  {
   "cell_type": "code",
   "execution_count": null,
   "id": "822f2a95",
   "metadata": {},
   "outputs": [],
   "source": []
  },
  {
   "cell_type": "code",
   "execution_count": null,
   "id": "0927f3c7",
   "metadata": {},
   "outputs": [],
   "source": []
  },
  {
   "cell_type": "markdown",
   "id": "14238128",
   "metadata": {},
   "source": [
    "Q2. What are the two most popular try statement variations?"
   ]
  },
  {
   "cell_type": "markdown",
   "id": "2413c68c",
   "metadata": {},
   "source": [
    "ans:\n",
    "    \n",
    "    1. try, except\n",
    "    2. try, except, finally\n",
    "    \n",
    "    'else' is also one of the variations."
   ]
  },
  {
   "cell_type": "code",
   "execution_count": null,
   "id": "1352e0a9",
   "metadata": {},
   "outputs": [],
   "source": []
  },
  {
   "cell_type": "code",
   "execution_count": null,
   "id": "29c93984",
   "metadata": {},
   "outputs": [],
   "source": []
  },
  {
   "cell_type": "markdown",
   "id": "6976d220",
   "metadata": {},
   "source": [
    "Q3. What is the purpose of the raise statement?"
   ]
  },
  {
   "cell_type": "markdown",
   "id": "f88950a5",
   "metadata": {},
   "source": [
    "ans:\n",
    "    \n",
    "    the raise statement is used to raise exceptions,\n",
    "    it raises the error and stops the programm"
   ]
  },
  {
   "cell_type": "code",
   "execution_count": 4,
   "id": "ffe2e2ba",
   "metadata": {},
   "outputs": [
    {
     "ename": "Exception",
     "evalue": "Enter a even number",
     "output_type": "error",
     "traceback": [
      "\u001b[1;31m---------------------------------------------------------------------------\u001b[0m",
      "\u001b[1;31mException\u001b[0m                                 Traceback (most recent call last)",
      "Input \u001b[1;32mIn [4]\u001b[0m, in \u001b[0;36m<cell line: 3>\u001b[1;34m()\u001b[0m\n\u001b[0;32m      1\u001b[0m b \u001b[38;5;241m=\u001b[39m \u001b[38;5;241m3\u001b[39m\n\u001b[0;32m      3\u001b[0m \u001b[38;5;28;01mif\u001b[39;00m b \u001b[38;5;241m%\u001b[39m \u001b[38;5;241m2\u001b[39m \u001b[38;5;241m!=\u001b[39m \u001b[38;5;241m0\u001b[39m:\n\u001b[1;32m----> 4\u001b[0m     \u001b[38;5;28;01mraise\u001b[39;00m \u001b[38;5;167;01mException\u001b[39;00m(\u001b[38;5;124m\"\u001b[39m\u001b[38;5;124mEnter a even number\u001b[39m\u001b[38;5;124m\"\u001b[39m)\n",
      "\u001b[1;31mException\u001b[0m: Enter a even number"
     ]
    }
   ],
   "source": [
    "b = 3\n",
    "  \n",
    "if b % 2 != 0:\n",
    "    raise Exception(\"Enter a even number\")"
   ]
  },
  {
   "cell_type": "code",
   "execution_count": null,
   "id": "c919712c",
   "metadata": {},
   "outputs": [],
   "source": []
  },
  {
   "cell_type": "code",
   "execution_count": null,
   "id": "0193c609",
   "metadata": {},
   "outputs": [],
   "source": []
  },
  {
   "cell_type": "markdown",
   "id": "5fffc33b",
   "metadata": {},
   "source": [
    "Q4. What does the assert statement do, and what other statement is it like?"
   ]
  },
  {
   "cell_type": "code",
   "execution_count": 7,
   "id": "5f99b4b5",
   "metadata": {},
   "outputs": [],
   "source": [
    "assert(5>4), 'not greater' # doesnt raise an error"
   ]
  },
  {
   "cell_type": "code",
   "execution_count": 8,
   "id": "37b60521",
   "metadata": {},
   "outputs": [
    {
     "ename": "AssertionError",
     "evalue": "not greater",
     "output_type": "error",
     "traceback": [
      "\u001b[1;31m---------------------------------------------------------------------------\u001b[0m",
      "\u001b[1;31mAssertionError\u001b[0m                            Traceback (most recent call last)",
      "Input \u001b[1;32mIn [8]\u001b[0m, in \u001b[0;36m<cell line: 1>\u001b[1;34m()\u001b[0m\n\u001b[1;32m----> 1\u001b[0m \u001b[38;5;28;01massert\u001b[39;00m(\u001b[38;5;241m2\u001b[39m\u001b[38;5;241m>\u001b[39m\u001b[38;5;241m4\u001b[39m), \u001b[38;5;124m'\u001b[39m\u001b[38;5;124mnot greater\u001b[39m\u001b[38;5;124m'\u001b[39m\n",
      "\u001b[1;31mAssertionError\u001b[0m: not greater"
     ]
    }
   ],
   "source": [
    "assert(2>4), 'not greater'"
   ]
  },
  {
   "cell_type": "markdown",
   "id": "f103d63b",
   "metadata": {},
   "source": [
    "ans:\n",
    "    \n",
    "    if the staement is false then it raise the error.\n",
    "    \n",
    "    it is kind od like the if statement."
   ]
  },
  {
   "cell_type": "code",
   "execution_count": null,
   "id": "83e078cd",
   "metadata": {},
   "outputs": [],
   "source": []
  },
  {
   "cell_type": "code",
   "execution_count": null,
   "id": "df0e1eb3",
   "metadata": {},
   "outputs": [],
   "source": []
  },
  {
   "cell_type": "markdown",
   "id": "ee43f5fe",
   "metadata": {},
   "source": [
    "Q5. What is the purpose of the with/as argument, and what other statement is it like?"
   ]
  },
  {
   "cell_type": "markdown",
   "id": "8b2e7c92",
   "metadata": {},
   "source": [
    "ans:\n",
    "    \n",
    "    the with statement is used to make the code cleaner and more readable.\n",
    "    \n",
    "    we dont have to call the file.close() in case of 'with'.\n",
    "    \n",
    "    \n",
    "    the 'with' is the same as file handling methods."
   ]
  },
  {
   "cell_type": "code",
   "execution_count": null,
   "id": "22829f9d",
   "metadata": {},
   "outputs": [],
   "source": []
  }
 ],
 "metadata": {
  "kernelspec": {
   "display_name": "Python 3 (ipykernel)",
   "language": "python",
   "name": "python3"
  },
  "language_info": {
   "codemirror_mode": {
    "name": "ipython",
    "version": 3
   },
   "file_extension": ".py",
   "mimetype": "text/x-python",
   "name": "python",
   "nbconvert_exporter": "python",
   "pygments_lexer": "ipython3",
   "version": "3.9.12"
  }
 },
 "nbformat": 4,
 "nbformat_minor": 5
}
