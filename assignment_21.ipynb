{
 "cells": [
  {
   "cell_type": "markdown",
   "id": "43f44ee5",
   "metadata": {},
   "source": [
    "Q1. What is a probability distribution, exactly? If the values are meant to be random, how can you\n",
    "predict them at all?"
   ]
  },
  {
   "cell_type": "markdown",
   "id": "24e19223",
   "metadata": {},
   "source": [
    "ans:\n",
    "    \n",
    "    A probability distribution tells us how a random variable is distributed.\n",
    "\n",
    "    it tells us which values a random variable can most likely take on and which values are less likely. \n",
    "    \n",
    "    based on the previous data and the occurences of the random event, we can predict the outcome in terms of probabilities."
   ]
  },
  {
   "cell_type": "code",
   "execution_count": null,
   "id": "40ee29a2",
   "metadata": {},
   "outputs": [],
   "source": []
  },
  {
   "cell_type": "code",
   "execution_count": null,
   "id": "36b17107",
   "metadata": {},
   "outputs": [],
   "source": []
  },
  {
   "cell_type": "markdown",
   "id": "379590c2",
   "metadata": {},
   "source": [
    "Q2. Is there a distinction between true random numbers and pseudo-random numbers, if there is\n",
    "one? Why are the latter considered “good enough”?"
   ]
  },
  {
   "cell_type": "markdown",
   "id": "3cc5b221",
   "metadata": {},
   "source": [
    "ans:\n",
    "    \n",
    "     true random numbers are actually physical values while pseudo-random numbers are generated internally by the program.\n",
    "     \n",
    "     latter is considered good enough as they have follow some sort of uniform distribution."
   ]
  },
  {
   "cell_type": "code",
   "execution_count": null,
   "id": "5f961d42",
   "metadata": {},
   "outputs": [],
   "source": []
  },
  {
   "cell_type": "code",
   "execution_count": null,
   "id": "9b22f2d7",
   "metadata": {},
   "outputs": [],
   "source": []
  },
  {
   "cell_type": "markdown",
   "id": "c0c6b4f4",
   "metadata": {},
   "source": [
    "Q3. What are the two main factors that influence the behaviour of a &quot;normal&quot; probability distribution?"
   ]
  },
  {
   "cell_type": "markdown",
   "id": "63f67c1b",
   "metadata": {},
   "source": [
    "ans:\n",
    "    \n",
    "    the two main factors are mean and variance."
   ]
  },
  {
   "cell_type": "code",
   "execution_count": null,
   "id": "2fc188b7",
   "metadata": {},
   "outputs": [],
   "source": []
  },
  {
   "cell_type": "code",
   "execution_count": null,
   "id": "16033769",
   "metadata": {},
   "outputs": [],
   "source": []
  },
  {
   "cell_type": "markdown",
   "id": "5bd229fb",
   "metadata": {},
   "source": [
    "Q4. Provide a real-life example of a normal distribution."
   ]
  },
  {
   "cell_type": "markdown",
   "id": "a2f33c47",
   "metadata": {},
   "source": [
    "ans:\n",
    "    \n",
    "    height of adult humans is an example of normal distribution."
   ]
  },
  {
   "cell_type": "code",
   "execution_count": null,
   "id": "b546d1a5",
   "metadata": {},
   "outputs": [],
   "source": []
  },
  {
   "cell_type": "code",
   "execution_count": null,
   "id": "0f998cbe",
   "metadata": {},
   "outputs": [],
   "source": []
  },
  {
   "cell_type": "markdown",
   "id": "28899d10",
   "metadata": {},
   "source": [
    "Q5. In the short term, how can you expect a probability distribution to behave? What do you think will\n",
    "happen as the number of trials grows?"
   ]
  },
  {
   "cell_type": "markdown",
   "id": "acc39e79",
   "metadata": {},
   "source": [
    "ans:\n",
    "    \n",
    "    with and increase in the number of trials the variance will decrease."
   ]
  },
  {
   "cell_type": "code",
   "execution_count": null,
   "id": "60422cfc",
   "metadata": {},
   "outputs": [],
   "source": []
  },
  {
   "cell_type": "code",
   "execution_count": null,
   "id": "b31864af",
   "metadata": {},
   "outputs": [],
   "source": []
  },
  {
   "cell_type": "markdown",
   "id": "42830fee",
   "metadata": {},
   "source": [
    "Q6. What kind of object can be shuffled by using random.shuffle?"
   ]
  },
  {
   "cell_type": "markdown",
   "id": "6ba61385",
   "metadata": {},
   "source": [
    "ans:\n",
    "    \n",
    "    by using random.shuffle we can shuffle list , strings, tuples."
   ]
  },
  {
   "cell_type": "code",
   "execution_count": null,
   "id": "7233df9b",
   "metadata": {},
   "outputs": [],
   "source": []
  },
  {
   "cell_type": "code",
   "execution_count": null,
   "id": "d166e89a",
   "metadata": {},
   "outputs": [],
   "source": []
  },
  {
   "cell_type": "markdown",
   "id": "f24cef91",
   "metadata": {},
   "source": [
    "Q7. Describe the math package&#39;s general categories of functions."
   ]
  },
  {
   "cell_type": "markdown",
   "id": "5cf4123d",
   "metadata": {},
   "source": [
    "ans:\n",
    "    \n",
    "    the math package's functions are:\n",
    "\n",
    "- trigonometric functions\n",
    "- quadratic functions\n",
    "- exponential functions\n",
    "- hyperbolic functions\n",
    "- arithmetic functions\n",
    "- logarithimic functions\n"
   ]
  },
  {
   "cell_type": "code",
   "execution_count": null,
   "id": "d2cd4295",
   "metadata": {},
   "outputs": [],
   "source": []
  },
  {
   "cell_type": "code",
   "execution_count": null,
   "id": "4aabb4c8",
   "metadata": {},
   "outputs": [],
   "source": []
  },
  {
   "cell_type": "markdown",
   "id": "2701b1d9",
   "metadata": {},
   "source": [
    "Q8. What is the relationship between exponentiation and logarithms?"
   ]
  },
  {
   "cell_type": "markdown",
   "id": "185a555c",
   "metadata": {},
   "source": [
    "ans:\n",
    "    \n",
    "    they have an inverse relationship between them.\n",
    "    \n",
    "    the standard form of exponential is ax = N which can be written in logarithmic function form as logaN = x ."
   ]
  },
  {
   "cell_type": "code",
   "execution_count": null,
   "id": "95e2f309",
   "metadata": {},
   "outputs": [],
   "source": []
  },
  {
   "cell_type": "code",
   "execution_count": null,
   "id": "87a83e58",
   "metadata": {},
   "outputs": [],
   "source": []
  },
  {
   "cell_type": "markdown",
   "id": "43c1c842",
   "metadata": {},
   "source": [
    "Q9. What are the three logarithmic functions that Python supports?"
   ]
  },
  {
   "cell_type": "markdown",
   "id": "c6bbc343",
   "metadata": {},
   "source": [
    "ans:\n",
    "    \n",
    "    log2(x), log(x, Base), log10(x), log1p(x) are the log functions that python supports."
   ]
  },
  {
   "cell_type": "code",
   "execution_count": null,
   "id": "8d3509c9",
   "metadata": {},
   "outputs": [],
   "source": []
  }
 ],
 "metadata": {
  "kernelspec": {
   "display_name": "Python 3 (ipykernel)",
   "language": "python",
   "name": "python3"
  },
  "language_info": {
   "codemirror_mode": {
    "name": "ipython",
    "version": 3
   },
   "file_extension": ".py",
   "mimetype": "text/x-python",
   "name": "python",
   "nbconvert_exporter": "python",
   "pygments_lexer": "ipython3",
   "version": "3.9.12"
  }
 },
 "nbformat": 4,
 "nbformat_minor": 5
}
