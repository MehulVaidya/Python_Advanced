{
 "cells": [
  {
   "cell_type": "markdown",
   "id": "07663a71",
   "metadata": {},
   "source": [
    "Q1. What is the concept of a metaclass?"
   ]
  },
  {
   "cell_type": "markdown",
   "id": "c39add02",
   "metadata": {},
   "source": [
    "ans:\n",
    "    \n",
    "    In object-oriented programming, a metaclass is a class whose instances are classes.\n",
    "    \n",
    "    A class is itself a instance of Metaclass, and any Instance of Class in Python is an Instance of type metaclass.\n",
    "    E.g. Type of of int, str, float, list, tuple and many more is of metaclass type."
   ]
  },
  {
   "cell_type": "code",
   "execution_count": null,
   "id": "24b0c89f",
   "metadata": {},
   "outputs": [],
   "source": []
  },
  {
   "cell_type": "code",
   "execution_count": null,
   "id": "601de58a",
   "metadata": {},
   "outputs": [],
   "source": []
  },
  {
   "cell_type": "markdown",
   "id": "5ca79d0a",
   "metadata": {},
   "source": [
    "Q2. What is the best way to declare a class&#39;s metaclass?"
   ]
  },
  {
   "cell_type": "markdown",
   "id": "a667693b",
   "metadata": {},
   "source": [
    "ans:\n",
    "    \n",
    "    we can use metaclass keyword in class definition."
   ]
  },
  {
   "cell_type": "code",
   "execution_count": 3,
   "id": "906c62cd",
   "metadata": {},
   "outputs": [
    {
     "name": "stdout",
     "output_type": "stream",
     "text": [
      "<class 'type'>\n",
      "<class '__main__.meta'>\n"
     ]
    }
   ],
   "source": [
    "class meta(type):\n",
    "    pass\n",
    "class class_meta(metaclass=meta):\n",
    "    pass\n",
    "print(type(meta))\n",
    "print(type(class_meta))"
   ]
  },
  {
   "cell_type": "code",
   "execution_count": null,
   "id": "7cacb787",
   "metadata": {},
   "outputs": [],
   "source": []
  },
  {
   "cell_type": "code",
   "execution_count": null,
   "id": "07b39a0f",
   "metadata": {},
   "outputs": [],
   "source": []
  },
  {
   "cell_type": "markdown",
   "id": "76f597f5",
   "metadata": {},
   "source": [
    "Q3. How do class decorators overlap with metaclasses for handling classes?"
   ]
  },
  {
   "cell_type": "markdown",
   "id": "ad09af63",
   "metadata": {},
   "source": [
    "ans:\n",
    "    \n",
    "    what we can do using decorators the same things can be done using metaclass.\n",
    "    \n",
    "    we need to apply functionality of decorator function,\n",
    "    \n",
    "    In the course of metaclass __new__ or __init__ that makes class object."
   ]
  },
  {
   "cell_type": "code",
   "execution_count": null,
   "id": "9c97faeb",
   "metadata": {},
   "outputs": [],
   "source": []
  },
  {
   "cell_type": "code",
   "execution_count": null,
   "id": "d576643f",
   "metadata": {},
   "outputs": [],
   "source": []
  },
  {
   "cell_type": "markdown",
   "id": "30bcdf61",
   "metadata": {},
   "source": [
    "Q3. How do class decorators overlap with metaclasses for handling classes?"
   ]
  },
  {
   "cell_type": "markdown",
   "id": "fa08c968",
   "metadata": {},
   "source": [
    "ans:\n",
    "    \n",
    "    what we can do using decorators the same things can be done using metaclass.\n",
    "    \n",
    "    we need to apply functionality of decorator function,\n",
    "    \n",
    "    In the course of metaclass __new__ or __init__ that makes class object."
   ]
  },
  {
   "cell_type": "code",
   "execution_count": null,
   "id": "540b4d33",
   "metadata": {},
   "outputs": [],
   "source": []
  }
 ],
 "metadata": {
  "kernelspec": {
   "display_name": "Python 3 (ipykernel)",
   "language": "python",
   "name": "python3"
  },
  "language_info": {
   "codemirror_mode": {
    "name": "ipython",
    "version": 3
   },
   "file_extension": ".py",
   "mimetype": "text/x-python",
   "name": "python",
   "nbconvert_exporter": "python",
   "pygments_lexer": "ipython3",
   "version": "3.9.12"
  }
 },
 "nbformat": 4,
 "nbformat_minor": 5
}
