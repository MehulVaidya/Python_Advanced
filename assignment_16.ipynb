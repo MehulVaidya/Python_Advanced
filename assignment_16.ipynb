{
 "cells": [
  {
   "cell_type": "markdown",
   "id": "86073bc0",
   "metadata": {},
   "source": [
    "Q1. What is the benefit of regular expressions?"
   ]
  },
  {
   "cell_type": "markdown",
   "id": "e69ae553",
   "metadata": {},
   "source": [
    "ans:\n",
    "    \n",
    "    Regular expressions are expressions that are made to match a specific pattern. \n",
    "    eg:  to check the authenticity of emails, phone numbers, and websites.\n",
    "\n",
    "- regular expression to validate any kind of input.\n",
    "- keep code cleaner.\n",
    "- it also avoids multiple use of if/else statements."
   ]
  },
  {
   "cell_type": "code",
   "execution_count": null,
   "id": "cb32e168",
   "metadata": {},
   "outputs": [],
   "source": []
  },
  {
   "cell_type": "code",
   "execution_count": null,
   "id": "fb58c409",
   "metadata": {},
   "outputs": [],
   "source": []
  },
  {
   "cell_type": "markdown",
   "id": "504344ec",
   "metadata": {},
   "source": [
    "Q2. Describe the difference between the effects of &quot;(ab)c+&quot; and &quot;a(bc)+.&quot; Which of these, if any, is the\n",
    "unqualified pattern &quot;abc+&quot;?"
   ]
  },
  {
   "cell_type": "markdown",
   "id": "a8ca5ae6",
   "metadata": {},
   "source": [
    "ans:\n",
    "    \n",
    "    (ab)c+ and a(bc)+ are both valid. \n",
    "    the difference between both them is in (ab)c+ ab is group whereas in a(bc)+ bc is a group."
   ]
  },
  {
   "cell_type": "code",
   "execution_count": null,
   "id": "c48e7c3b",
   "metadata": {},
   "outputs": [],
   "source": []
  },
  {
   "cell_type": "code",
   "execution_count": null,
   "id": "86edc7f8",
   "metadata": {},
   "outputs": [],
   "source": []
  },
  {
   "cell_type": "markdown",
   "id": "8b1a3274",
   "metadata": {},
   "source": [
    "Q3. How much do you need to use the following sentence while using regular expressions?\n",
    "\n",
    "import re"
   ]
  },
  {
   "cell_type": "markdown",
   "id": "3a1d08e6",
   "metadata": {},
   "source": [
    "ans:\n",
    "    \n",
    "    we will need to import re everytime we are using regex."
   ]
  },
  {
   "cell_type": "code",
   "execution_count": null,
   "id": "39cff90f",
   "metadata": {},
   "outputs": [],
   "source": []
  },
  {
   "cell_type": "code",
   "execution_count": null,
   "id": "e55cc905",
   "metadata": {},
   "outputs": [],
   "source": []
  },
  {
   "cell_type": "markdown",
   "id": "7deb4115",
   "metadata": {},
   "source": [
    "Q4. Which characters have special significance in square brackets when expressing a range, and\n",
    "under what circumstances?"
   ]
  },
  {
   "cell_type": "markdown",
   "id": "23cf7883",
   "metadata": {},
   "source": [
    "ans:\n",
    "    \n",
    "    .,*,?,^,or,()are the characters that have a special signiface when used with square brackets. \n",
    "    they need not be be escaped by using \\ as in case of pattern texts in a raw string."
   ]
  },
  {
   "cell_type": "code",
   "execution_count": null,
   "id": "c3fc5b4c",
   "metadata": {},
   "outputs": [],
   "source": []
  },
  {
   "cell_type": "code",
   "execution_count": null,
   "id": "e8e3d0dc",
   "metadata": {},
   "outputs": [],
   "source": []
  },
  {
   "cell_type": "markdown",
   "id": "714a3ea1",
   "metadata": {},
   "source": [
    "Q5. How does compiling a regular-expression object benefit you?"
   ]
  },
  {
   "cell_type": "markdown",
   "id": "4fd0b52c",
   "metadata": {},
   "source": [
    "ans:\n",
    "    \n",
    "    We can combine a regular expression pattern into pattern objects, which can be used for pattern matching. \n",
    "    \n",
    "    \n",
    "    \n",
    "    \n",
    "    \n",
    "    "
   ]
  },
  {
   "cell_type": "code",
   "execution_count": null,
   "id": "ab6d2133",
   "metadata": {},
   "outputs": [],
   "source": []
  },
  {
   "cell_type": "code",
   "execution_count": null,
   "id": "5f8410fd",
   "metadata": {},
   "outputs": [],
   "source": []
  },
  {
   "cell_type": "markdown",
   "id": "363a3b3c",
   "metadata": {},
   "source": [
    "Q6. What are some examples of how to use the match object returned by re.match and re.search?"
   ]
  },
  {
   "cell_type": "markdown",
   "id": "9fa9f0b8",
   "metadata": {},
   "source": [
    "ans:\n",
    "    \n",
    "\n",
    "    Both return the first match of a substring found in the string, but re.match() searches only from the beginning of the string and return match object if found. But if a match of substring is found somewhere in the middle of the string, it returns none.\n",
    "\n",
    "    While re.search() searches for the whole string even if the string contains multi-lines and tries to find a match of the substring in all the lines of string\n",
    "\n"
   ]
  },
  {
   "cell_type": "code",
   "execution_count": 1,
   "id": "511c5dc6",
   "metadata": {},
   "outputs": [
    {
     "name": "stdout",
     "output_type": "stream",
     "text": [
      "<re.Match object; span=(66, 72), match='string'>\n",
      "None\n"
     ]
    }
   ],
   "source": [
    "import re\n",
    "substr ='string' \n",
    "string1 ='We are learning regex with geeksforgeeks regex is very useful for string matching. It is fast too.' \n",
    "string2 ='string We are learning regex with geeksforgeeks regex is very useful for string matching. It is fast too.'\n",
    "print(re.search(substr, string1, re.IGNORECASE))\n",
    "print(re.match(substr, string1, re.IGNORECASE))\n"
   ]
  },
  {
   "cell_type": "code",
   "execution_count": 2,
   "id": "e2881661",
   "metadata": {},
   "outputs": [
    {
     "name": "stdout",
     "output_type": "stream",
     "text": [
      "<re.Match object; span=(0, 6), match='string'>\n",
      "<re.Match object; span=(0, 6), match='string'>\n"
     ]
    }
   ],
   "source": [
    "print(re.search(substr, string2, re.IGNORECASE))\n",
    "print(re.match(substr, string2, re.IGNORECASE))"
   ]
  },
  {
   "cell_type": "code",
   "execution_count": null,
   "id": "b3d5884b",
   "metadata": {},
   "outputs": [],
   "source": []
  },
  {
   "cell_type": "code",
   "execution_count": null,
   "id": "3a764672",
   "metadata": {},
   "outputs": [],
   "source": []
  },
  {
   "cell_type": "markdown",
   "id": "3f9285a3",
   "metadata": {},
   "source": [
    "Q7. What is the difference between using a vertical bar (|) as an alteration and using square brackets\n",
    "as a character set?"
   ]
  },
  {
   "cell_type": "markdown",
   "id": "ac09c420",
   "metadata": {},
   "source": [
    "ans:\n",
    "    \n",
    "    | is used to search pattern for or option. \n",
    "    i.e pattern or pattern_2  in the searched string. \n",
    "    the first occurance is returned as the matched Object.\n",
    "    \n",
    "    using character set in square brackets searches for all the character set in the square bracket,\n",
    "    if match is found, it returns it."
   ]
  },
  {
   "cell_type": "code",
   "execution_count": null,
   "id": "7119154e",
   "metadata": {},
   "outputs": [],
   "source": []
  },
  {
   "cell_type": "code",
   "execution_count": null,
   "id": "4e7edd96",
   "metadata": {},
   "outputs": [],
   "source": []
  },
  {
   "cell_type": "markdown",
   "id": "dd1a51e4",
   "metadata": {},
   "source": [
    "Q8. In regular-expression search patterns, why is it necessary to use the raw-string indicator (r)? In  \n",
    "replacement strings?"
   ]
  },
  {
   "cell_type": "code",
   "execution_count": 9,
   "id": "1f6dc281",
   "metadata": {},
   "outputs": [
    {
     "name": "stdout",
     "output_type": "stream",
     "text": [
      "Hello\t \n",
      "Hi\n"
     ]
    }
   ],
   "source": [
    "str1 = \"Hello\\t \\nHi\"\n",
    "print(str1)"
   ]
  },
  {
   "cell_type": "code",
   "execution_count": 10,
   "id": "7a2128c8",
   "metadata": {},
   "outputs": [
    {
     "name": "stdout",
     "output_type": "stream",
     "text": [
      "Hello\\t \\nHi\n"
     ]
    }
   ],
   "source": [
    "str2 = r\"Hello\\t \\nHi\"\n",
    "print(str2)"
   ]
  },
  {
   "cell_type": "markdown",
   "id": "c4a96fba",
   "metadata": {},
   "source": [
    "ans:\n",
    "    \n",
    "    r  is used so that backslashes will not be escaped."
   ]
  },
  {
   "cell_type": "code",
   "execution_count": null,
   "id": "a252a077",
   "metadata": {},
   "outputs": [],
   "source": []
  }
 ],
 "metadata": {
  "kernelspec": {
   "display_name": "Python 3 (ipykernel)",
   "language": "python",
   "name": "python3"
  },
  "language_info": {
   "codemirror_mode": {
    "name": "ipython",
    "version": 3
   },
   "file_extension": ".py",
   "mimetype": "text/x-python",
   "name": "python",
   "nbconvert_exporter": "python",
   "pygments_lexer": "ipython3",
   "version": "3.9.12"
  }
 },
 "nbformat": 4,
 "nbformat_minor": 5
}
